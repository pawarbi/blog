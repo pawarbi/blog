{
 "cells": [
  {
   "cell_type": "markdown",
   "metadata": {},
   "source": [
    "# Data Science For Power BI Developers\n",
    "> Recording of the session at Atlanta Power BI User Group\n",
    "\n",
    "- toc: true \n",
    "- badges: true\n",
    "- comments: true\n",
    "- categories: [powerbi, machinelearning, datascience]\n",
    "- hide: false"
   ]
  },
  {
   "cell_type": "markdown",
   "metadata": {},
   "source": [
    "## Motivation\n",
    "\n",
    "I have presented on many topics related to Machine Learning, Data Science, Azure ML, AI Visuals in Power BI but I have always wanted to present how a Power BI developer can use data science in their workflow. The common misconception is that you have to know a ton of Statistics to use data science principles. While it will always help, that's not a requirement to get started. The difference between a BI developer and a data scientist is essentially how they analyze the data to get differrent insights. In this session I show what that approach looks like from a Power BI developer's perspective, common tasks/use cases in data science and how to get started. As a Power BI developer you will be able to enrich your reports with additional insights that you won't otherwise won't without data science.  \n",
    "\n",
    "Thank you to Teo, Damu and others for inviting me to present.\n",
    "\n",
    "> youtube: https://youtu.be/S8o8UFaTo70"
   ]
  },
  {
   "cell_type": "markdown",
   "metadata": {},
   "source": [
    "![](https://raw.githubusercontent.com/pawarbi/blog/master/images/srenamecol1.png)"
   ]
  }
 ],
 "metadata": {
  "kernelspec": {
   "display_name": "Python 3",
   "language": "python",
   "name": "python3"
  },
  "language_info": {
   "codemirror_mode": {
    "name": "ipython",
    "version": 3
   },
   "file_extension": ".py",
   "mimetype": "text/x-python",
   "name": "python",
   "nbconvert_exporter": "python",
   "pygments_lexer": "ipython3",
   "version": "3.8.5"
  }
 },
 "nbformat": 4,
 "nbformat_minor": 4
}
