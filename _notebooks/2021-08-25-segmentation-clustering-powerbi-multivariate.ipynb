{
 "cells": [
  {
   "cell_type": "markdown",
   "metadata": {},
   "source": [
    "# Migrating Power BI Dataflows Across Workspaces\n",
    "> Blog & video on how to move Dataflows from one workspace to the other and reconnect Power BI desktop report to the migrated dataflows \n",
    "\n",
    "- toc: true \n",
    "- badges: true\n",
    "- comments: true\n",
    "- categories: [PowerBI, dataflow, migration, workspaces, json]\n",
    "- hide: false"
   ]
  },
  {
   "cell_type": "markdown",
   "metadata": {},
   "source": [
    "## Migrating Dataflow\n",
    "\n",
    "![df0](https://raw.githubusercontent.com/pawarbi/blog/master/images/df0.JPG)"
   ]
  },
  {
   "cell_type": "markdown",
   "metadata": {},
   "source": [
    "I was recently involved in a project to migrate multiple dataflows across workspaces. While exporting the dataflow by creating a .json file is known, I didn't find any references on how to fix the Power BI Desktop report to point to the migrated dataflows. In this post I will describe how to do that easily. If you prefer, you can watch the video at the end of the blog post.   \n",
    "\n",
    "### Steps:\n",
    "\n",
    "- First and foremost you will need to setup the enterprise data gateway, add the required data sources and authenticate them. Before following any of the steps below, ensure that the gateway is setup correctly and its running.\n",
    "\n",
    "- In Power BI service, browse to the dataflow you want to export\n",
    "\n",
    "- Click on the ellipses (three dots) and select **Export .json**. The json file contains the data and the metadata associated with the dataflow for all the queries within it.\n",
    "\n",
    "\n",
    "![df1](https://raw.githubusercontent.com/pawarbi/blog/master/images/df1.jpg)\n",
    "\n",
    "- In Power BI service, browse to the second workspace to which you want to migrate the saved dataflow and select **Import Model**. Import the saved the json file.\n",
    "\n",
    "![df2](https://raw.githubusercontent.com/pawarbi/blog/master/images/df2.jpg)\n",
    "\n",
    "\n",
    "- You will be prompted to **Edit Credentials**. If your data source needs credentials, enter the credentials under **Data source credentails** in Settings\n",
    "\n",
    "- Refresh the newly imported dataflow to make sure you are able to pull the data and run the queries\n",
    "\n",
    "- Select the imported dataflow and copy the URL in the browser. The URL will be in following format:\n",
    "\n",
    "    `https://app.powerbi.com/groups/{workspace_id}/dataflows/{dataflow_id}`\n",
    "    \n",
    "    \n",
    "- Copy the workspace id & the dataflow id, we need those to reconfigure the queries in Desktop. If you have multiple dataflows, you may find it easier to use the [API](https://docs.microsoft.com/en-us/rest/api/power-bi/dataflows/getdataflows)\n",
    "\n",
    "- Open the report in Power BI desktop, create two parameters for `workspace_id` and the `dataflow_id`. Use the above copied strings as the default values. You can watch the below video if you don't know how to create the parameters\n",
    "\n",
    "- Open the M code for each query in the dataflow and replace the `workspaceId=\"{original_workspaceid}\"` with the `workspaceId=workspace_id_parameter`\n",
    "\n",
    "![df3](https://raw.githubusercontent.com/pawarbi/blog/master/images/df3.JPG)\n",
    "\n",
    "- Repeat the same thing for the dataflow id, replace `dataflowId=\"{original_dataflowid}\"` with `dataflowId=dataflow_id`\n",
    "\n",
    "- Repeat this for each dataflow query. Since you created the parameters, you only need to replace the id strings with the respective parameters\n",
    "\n",
    "- Refresh all queries to ensure they are working\n",
    "\n",
    "- Delete the original dataflow from the first workspace as we don't need it anymore"
   ]
  },
  {
   "cell_type": "markdown",
   "metadata": {},
   "source": [
    "### Video\n",
    "\n",
    ">youtube: https://youtu.be/ONehy5x9Hl4"
   ]
  },
  {
   "cell_type": "markdown",
   "metadata": {},
   "source": [
    "### References\n",
    "\n",
    "- [Dataflow](https://docs.microsoft.com/en-us/power-bi/transform-model/dataflows/dataflows-introduction-self-service)\n",
    "- [Workspaceid](https://stackoverflow.com/questions/51991826/how-to-get-workspaceid-in-powerbi)"
   ]
  },
  {
   "cell_type": "code",
   "execution_count": null,
   "metadata": {},
   "outputs": [],
   "source": []
  }
 ],
 "metadata": {
  "kernelspec": {
   "display_name": "Python 3",
   "language": "python",
   "name": "python3"
  },
  "language_info": {
   "codemirror_mode": {
    "name": "ipython",
    "version": 3
   },
   "file_extension": ".py",
   "mimetype": "text/x-python",
   "name": "python",
   "nbconvert_exporter": "python",
   "pygments_lexer": "ipython3",
   "version": "3.6.10"
  }
 },
 "nbformat": 4,
 "nbformat_minor": 4
}
