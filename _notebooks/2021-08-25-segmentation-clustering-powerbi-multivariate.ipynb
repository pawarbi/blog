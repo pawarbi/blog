{
 "cells": [
  {
   "cell_type": "markdown",
   "metadata": {},
   "source": [
    "# Video: Segmentation Using Multivariate Clustering in Power BI\n",
    "> The video shows how to perform multivariate clustering in Power BI using native features. I also show how to visualiza the clusters to gain insights. \n",
    "\n",
    "- toc: true \n",
    "- badges: true\n",
    "- comments: true\n",
    "- categories: [PowerBI, clustering, machinelearning]\n",
    "- hide: false"
   ]
  },
  {
   "cell_type": "markdown",
   "metadata": {},
   "source": [
    "## Clustering In Power BI\n",
    "\n",
    "Power BI has native clustering capabilities that are rarely utilized, partially due to poor documentation on thsi topic. In this video, I show how you can perform clustering in Power BI and also how to use the results to gain insights from these clusters."
   ]
  },
  {
   "cell_type": "markdown",
   "metadata": {},
   "source": [
    ">youtube: https://youtu.be/0dN1scyuZvs"
   ]
  }
 ],
 "metadata": {
  "kernelspec": {
   "display_name": "Python 3",
   "language": "python",
   "name": "python3"
  },
  "language_info": {
   "codemirror_mode": {
    "name": "ipython",
    "version": 3
   },
   "file_extension": ".py",
   "mimetype": "text/x-python",
   "name": "python",
   "nbconvert_exporter": "python",
   "pygments_lexer": "ipython3",
   "version": "3.6.10"
  }
 },
 "nbformat": 4,
 "nbformat_minor": 4
}
