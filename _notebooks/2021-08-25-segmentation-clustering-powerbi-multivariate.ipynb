{
 "cells": [
  {
   "cell_type": "markdown",
   "metadata": {},
   "source": [
    "# Migrating Power BI Dataflows Across Workspaces\n",
    "> Blog & video on how to move Dataflows from one workspace to the other and reconnect Power BI desktop report to the migrated dataflows \n",
    "\n",
    "- toc: true \n",
    "- badges: true\n",
    "- comments: true\n",
    "- categories: [PowerBI, dataflow, migration, workspaces, json]\n",
    "- hide: false"
   ]
  },
  {
   "cell_type": "markdown",
   "metadata": {},
   "source": [
    "### Power BI AutoML Deep Dive\n",
    "\n",
    "In this session I wanted to show, not only how to create the machine learning models, but more importantly how to create models that answer business questions and are explainable and robust. Please watch and let me know your thoughts. Topic covered: \n",
    "\n",
    "   - Machine Learning Basics\n",
    "   - License Requirements\n",
    "   - How to create models that are:\n",
    "       - Business focused (cost/loss functions/profit curves)\n",
    "       - Generalizable (underfitting/overfitting/error terrain analysis)\n",
    "       - Interpretable (SHAP, feature importance)\n",
    "       - Manageable (MLOps process and workflow)\n",
    "   - Recommendations, Limitations\n"
   ]
  },
  {
   "cell_type": "markdown",
   "metadata": {},
   "source": [
    ">youtube https://youtu.be/_CaFacQiW_E"
   ]
  }
 ],
 "metadata": {
  "kernelspec": {
   "display_name": "Python 3",
   "language": "python",
   "name": "python3"
  },
  "language_info": {
   "codemirror_mode": {
    "name": "ipython",
    "version": 3
   },
   "file_extension": ".py",
   "mimetype": "text/x-python",
   "name": "python",
   "nbconvert_exporter": "python",
   "pygments_lexer": "ipython3",
   "version": "3.6.10"
  }
 },
 "nbformat": 4,
 "nbformat_minor": 4
}
