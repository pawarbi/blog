{
 "cells": [
  {
   "cell_type": "markdown",
   "metadata": {},
   "source": [
    "# Creating Custom Summary Statistics Table in Power Query\n",
    "> Table.Profile() provides descriptive statistics for the entire table. This method allows you to obtain descriptive statistics for every column based on a category or categories and also add custom statistics.\n",
    "\n",
    "- toc: true \n",
    "- badges: true\n",
    "- comments: true\n",
    "- categories: [powerbi,powerquery,statistics,transformation,table.profile]\n",
    "- hide: false"
   ]
  },
  {
   "cell_type": "markdown",
   "metadata": {},
   "source": [
    "## Introduction\n",
    "\n",
    "A Reddit user posted a question on [r/PowerBI](https://www.reddit.com/r/PowerBI/comments/hemj6y/tableprofile_that_respects_slicers_and_deals_with/) forum few days ago about \"... *Table.Profile that respects slicers and deals with strings*...\" I answered the question by noting that it would be a easier to do it with DAX using SWITCH(). But coincidentally, I had a similar requirement for a project where the user wanted to get summary statistics for each numerical column and filterable by a slicer. The summary statistics in my case also included some custom fucntions. I could have created calculated columns, but Power Query offers a faster & memory-efficient solution. The reddit user had question about strings but I am going to focus on numerical columns only for simplicity. This is a quick way to get summary statistics for exploratory data analysis or checking data quality.\n"
   ]
  },
  {
   "cell_type": "markdown",
   "metadata": {},
   "source": [
    "## Table.Profile()\n",
    "\n",
    "As this user mentioned in the question, the easiest and fastest way to get descriptive statistics is to wrap the table with `Table.Profile()`. Read the documentation [here](https://docs.microsoft.com/en-us/powerquery-m/table-profile). By default, `Table.Profile()` returns min, max, average, standard deviation, count, null count, distinct count. But you can add more aggregates or custom functions by specifying the second parameter `additionalAggregates as nullable list`.  [Lars Schreiber](https://twitter.com/SchreiberLars) has an excellent [blog post](https://ssbi-blog.de/blog/technical-topics-english/table-profile-and-its-unknown-second-parameter/) on using that second parameter. \n",
    "\n",
    "In the example below, I added median and a custom function to count number of outliers in each column. This second parameter can be specified as {{\"ColumnName\", column type, aggregation function to use}}\n"
   ]
  },
  {
   "cell_type": "markdown",
   "metadata": {},
   "source": [
    "## Custum Function to Count Outliers"
   ]
  },
  {
   "cell_type": "markdown",
   "metadata": {},
   "source": [
    "#hide_output\n",
    "\n",
    "\n",
    "(mylist as list, optional limit as number) =>\n",
    "let\n",
    "   // Function to count number of outlier value based on how far it is from the average. \n",
    "   // By default values that are 2 standard deviations away form the mean are counted as outliers\n",
    "   // Sandeep Pawar \n",
    "   // PawarBI.com\n",
    "   // Date: 7/2/2020\n",
    "   \n",
    "    mean = List.Average(mylist),\n",
    "    sd = List.StandardDeviation(mylist),\n",
    "    limit = 2,\n",
    "    outliers = List.Select( mylist, each _ > (mean + 2*sd)),\n",
    "    outcount = List.Count(outliers)\n",
    "\n",
    "\n",
    "in\n",
    "    outcount"
   ]
  },
  {
   "cell_type": "markdown",
   "metadata": {},
   "source": [
    "To use this custom function `fxoutlier(list,limit)` in `Table.Profile()`, I can write:\n"
   ]
  },
  {
   "cell_type": "code",
   "execution_count": 5,
   "metadata": {},
   "outputs": [
    {
     "ename": "SyntaxError",
     "evalue": "invalid syntax (<ipython-input-5-06dfaf75bb51>, line 2)",
     "output_type": "error",
     "traceback": [
      "\u001b[1;36m  File \u001b[1;32m\"<ipython-input-5-06dfaf75bb51>\"\u001b[1;36m, line \u001b[1;32m2\u001b[0m\n\u001b[1;33m    Table.Profile(TableName, {{\"Outliers\", each Type.Is(_, nullable number), each fxoutlier(_,null)}})\u001b[0m\n\u001b[1;37m                                                   ^\u001b[0m\n\u001b[1;31mSyntaxError\u001b[0m\u001b[1;31m:\u001b[0m invalid syntax\n"
     ]
    }
   ],
   "source": [
    "#hide_output\n",
    "Table.Profile(TableName, {{\"Outliers\", each Type.Is(_, nullable number), each fxoutlier(_,null)}})"
   ]
  },
  {
   "cell_type": "markdown",
   "metadata": {},
   "source": [
    "## Video "
   ]
  },
  {
   "cell_type": "markdown",
   "metadata": {},
   "source": [
    "> youtube: https://youtu.be/u4ce1vzMiAE"
   ]
  },
  {
   "cell_type": "code",
   "execution_count": null,
   "metadata": {},
   "outputs": [],
   "source": []
  }
 ],
 "metadata": {
  "kernelspec": {
   "display_name": "Python 3",
   "language": "python",
   "name": "python3"
  },
  "language_info": {
   "codemirror_mode": {
    "name": "ipython",
    "version": 3
   },
   "file_extension": ".py",
   "mimetype": "text/x-python",
   "name": "python",
   "nbconvert_exporter": "python",
   "pygments_lexer": "ipython3",
   "version": "3.6.10"
  }
 },
 "nbformat": 4,
 "nbformat_minor": 2
}
