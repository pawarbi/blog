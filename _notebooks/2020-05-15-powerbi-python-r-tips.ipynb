{
 "cells": [
  {
   "cell_type": "markdown",
   "metadata": {},
   "source": [
    "# Recommendations For Using Python/R in Power BI\n",
    "> These are my personal recommendations when using Python / R in Power Query and Visual  \n",
    "\n",
    "- toc: true \n",
    "- badges: true\n",
    "- comments: true\n",
    "- categories: [powerbi,R,Python]\n",
    "- hide: false"
   ]
  },
  {
   "cell_type": "markdown",
   "metadata": {},
   "source": [
    "## Overview\n",
    "\n",
    "Using Python and R in Power BI, when used correctly, can allow quick experimentation, data/calculation validation, statistical analysis/inferencing of the data. However, before you use Python/R in Power BI keep the performance and data privacy issues in mind. I personally use Python in my report development, model development process but use it as a tool for experimentation rather than replacement to native Power BI tools. Below are my recommendations / tips: \n",
    "\n",
    "- Always read the documentation [Python](https://docs.microsoft.com/en-us/power-bi/connect-data/desktop-python-scripts) and [R](https://docs.microsoft.com/en-us/power-bi/connect-data/desktop-r-scripts) for known limitations, official guidelines\n",
    "\n",
    "\n",
    "\n",
    "- **Uncheck “Enhanced meta-data”** if you are using Python. Power BI released it as a preview feature in [March 2020](https://powerbi.microsoft.com/en-us/blog/power-bi-desktop-march-2020-feature-summary/#_Other). Unfortunately, I learned it the hard way. If you use Python in Power Query with this option selected and save the file, it will currupt your file and **you cannot recover it back** (well, [not entirely](https://www.thebiccountant.com/2020/04/13/power-bi-store-datasets-in-enhanced-metadata-format-warning/)). Enhanced metadata allows read/write XMLA (Premium feature). This is a serious bug that MS needs to fix. If you need to use this option, use R. \n",
    "\n",
    "![meta](https://raw.githubusercontent.com/pawarbi/blog/master/images/meta.JPG)\n",
    "\n",
    "\n",
    "- **Keep the data privacy implications in mind**. Data Privacy must be set to \"Public\" . While that does not mean the report/dashboard/data are made public, do not use Python /R if you are working with sensitive data. When the data privacy is set to \"Public\", Microsoft stores it in less restrictive storage but the data is safe. \n",
    "\n",
    "\n",
    "\n",
    "- **Always create and use virtual environment** ,e.g. use  virtualenv/pipenv, conda. Conda may not always work if multiple Python copies are installed and is a known [issue](https://github.com/MicrosoftDocs/powerbi-docs/issues/379). More on Python virtual enviroment [here](https://docs.python.org/3/tutorial/venv.html). Use the directory of the virtual environment as Python home directory.\n",
    "\n",
    "![venv](https://raw.githubusercontent.com/pawarbi/blog/master/images/vv.JPG)\n",
    "\n",
    "\n",
    "\n",
    "- **Only install the packages you need**. Power BI needs pandas and matplotlib installed at minimum. I personally only use Pandas, Numpy, Statsmodels, Scipy, Scikit-learn, Matplotlib, Seaborn in my Power BI virtual environment. If you find yourself needing more packages, you should consider using the IDE and deploying Python/R outside of Power BI.\n",
    "\n",
    "\n",
    "- **Only import the packages you need**, e.g. `from scipy.stats import lognorm` instead of `from scipy import *` to the reduce execution time\n",
    "\n",
    "\n",
    "- By default, Power BI loads pandas, matplotlib and os, no need to re-import it (`import pandas as pd`). If you do need to alias the package, create a variable, `pd=pandas` and then you can use `pd.read_csv(..)`\n",
    "\n",
    "\n",
    "\n",
    "- **Change date column to text** before running Python and change it back to Date format after running the script. If you keep it as Date, all Date values will be returned as \"Microsoft.OldDb.Date\". You can also change the column type to Date/Time and parse it back but it's esier to convert text.\n",
    "\n",
    "\n",
    "- Duplicate the original query and apply Python /R on duplicated query, instead of the original.\n",
    "\n",
    "\n",
    "- Apply Python / R as the last step or when the rows have been filtered, unnecessary columns have been removed to reduce the *.csv file Power BI creates. The temporary csv file must be <250 MB, so it's best to reduce the data to keep the file size down. \n",
    "\n",
    "\n",
    "- Use only one Python / R script in a query, if you must use Python / R.\n",
    "\n",
    "\n",
    "- **Always run Query Diagnostics** to make sure Python/R script isn’t the bottleneck, query execution time is << 5min. Query will time out if the execution time is >30 minutes. Run the script in your IDE to time the execution. If you are using Python, vectorize the data to improve efficiency, avoid for loops, use `apply()`, avoid intermediate dataframes.\n",
    "\n",
    "\n",
    "- Power Query is powerful and preferred, so **don't use Python / R as a replacement**. Use it for quick experimentation, data validation, spot/sanity checking, calculation validation, statistical analysis only. I use it often in my workflow for finding patterns, anamolies, outliers, correlation etc. using Power BI + Jupyter (blog to come. ). I have intentionally left out Machine Learning here. I do not think an ML model should be deployed as a Python / R script because of the limitations and it's a bad deployment practice in general. ML models need to be revised, monitored for performance, data drift etc and Power BI does not allow that. **Do not deploy ML models in Power Query**\n",
    "\n",
    "\n",
    "- Use Power Query Parameter in Python /R if you need to reuse a script or need a quick way to change arguments,params. You can pass `&Text.From([param])` or `&Number.From([param])` in any Python / R script to make it more dynamic. \n",
    "\n",
    "\n",
    "- Apply correct summarization for visuals (No summarization, sum, average etc.), always add an index/unique key to make sure rows are not removed.\n",
    "\n",
    "\n",
    "- Create Python/R visuals after you have finalized column/measure names. Renaming column/measure will throw an error\n",
    "\n",
    "- Use native Power BI visuals for production reports and Python/R visuals for getting more insights and for experimentation. Power/R visuals are very slow to refresh and do not allow cross-filtering, highlighting.\n",
    "\n",
    "- If you do use Python/R visual in production report, run the [Performance Analyzer](https://docs.microsoft.com/en-us/power-bi/create-reports/desktop-performance-analyzer) to check execution & refresh time. If it's too slow, consider using native visuals or build one in [charticulator](https://charticulator.com/). I rarely use custom visuals to avoid dependency and data security reasons.  \n",
    "\n",
    "\n",
    "\n",
    "[David Eldersveld](https://dataveld.com/2018/11/10/5-performance-tips-for-r-and-python-scripts-in-power-bi/) provides an excellent overview in his video and blog\n",
    "\n",
    ">youtube:https://youtu.be/ahf6wPXHTvM"
   ]
  },
  {
   "cell_type": "markdown",
   "metadata": {},
   "source": [
    "## Reference: \n",
    "\n",
    "1. https://docs.microsoft.com/en-us/power-bi/connect-data/desktop-python-scripts\n",
    "2. https://docs.microsoft.com/en-us/power-bi/connect-data/desktop-python-in-query-editor\n",
    "3. https://docs.microsoft.com/en-us/power-bi/connect-data/desktop-r-scripts\n",
    "4. https://dataveld.com/2018/11/10/5-performance-tips-for-r-and-python-scripts-in-power-bi/"
   ]
  }
 ],
 "metadata": {
  "kernelspec": {
   "display_name": "Python 3",
   "language": "python",
   "name": "python3"
  },
  "language_info": {
   "codemirror_mode": {
    "name": "ipython",
    "version": 3
   },
   "file_extension": ".py",
   "mimetype": "text/x-python",
   "name": "python",
   "nbconvert_exporter": "python",
   "pygments_lexer": "ipython3",
   "version": "3.6.10"
  }
 },
 "nbformat": 4,
 "nbformat_minor": 2
}
