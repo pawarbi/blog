{
 "cells": [
  {
   "cell_type": "markdown",
   "metadata": {},
   "source": [
    "# Function To Audit Datasources For Query Folding\n",
    "> Functions to quickly check which of the data sources are folding\n",
    "\n",
    "- toc: true \n",
    "- badges: true\n",
    "- comments: true\n",
    "- categories: [powerbi, powerquery, queryfolding]\n",
    "- hide: false"
   ]
  },
  {
   "cell_type": "markdown",
   "metadata": {},
   "source": [
    "## Query Folding\n",
    "\n",
    "I will assume you already know what is query folding. If you don't, please read [this documentation](https://learn.microsoft.com/en-us/power-query/query-folding-examples) or [watch the session](https://player.vimeo.com/video/714177719?h=466f2d1c1b) I presented few months ago. I have included more resources at the bottom. "
   ]
  },
  {
   "cell_type": "markdown",
   "metadata": {},
   "source": [
    "## Query Folding Audit\n",
    "\n",
    "Imagine a scenario where you are revisiting one of your old reports or are helping a client optimize their dataset performance. One of the first things you will look at are which of the queries are folding. If the query is folding, Power BI will offload all or part of the transformations back to the datasource thus resulting in faster refreshes. If you just have couple of data sources, you can check it by right clicking or using other methods I described in the video above. But if you have 20-30 queries, which is not uncommon, it will take time. What if there was a quick way so you can prioritize which queries to check ? The functions I wrote below will do exactly that.  \n",
    "\n",
    "#### Value.Metadata\n",
    "\n",
    "The function relies on two M functions. `Value.Metadata` which checks if the query is folding. And using `#section` to get list of all the queries. You can read more about `Value.Metadata` on Chris Webb's blog [here](https://blog.crossjoin.co.uk/2016/08/02/another-way-to-check-query-folding-in-power-bipower-query-m-code/). "
   ]
  },
  {
   "cell_type": "markdown",
   "metadata": {},
   "source": [
    "## Function 1: __QFIndicator\n",
    "\n",
    "This function uses `Value.Metadata` to check if query is folding or is foldable. If it returns `FALSE`, either the datasource is not foldable (such as Excel, CSV etc.) or the query is not folding. \n",
    "\n",
    ">note: Value.Metadata function may not always work. There are scenarios where the query could be folding but it still might return `FALSE`. BigQuery, OData are some examples of that. "
   ]
  },
  {
   "cell_type": "markdown",
   "metadata": {},
   "source": [
    "```\n",
    "// Save as __QFIndicator                \n",
    "(tableName as table) =>\n",
    "  let\n",
    "    fn =\n",
    "      if (Value.Metadata(tableName)[QueryFolding][IsFolded] = true) then\n",
    "        \"Query Folded Successfully\"\n",
    "      else\n",
    "        error Error.Record(\n",
    "          \"Query Folding Warning\",\n",
    "          \"Query not folding\",\n",
    "          \"Either the query does not use native query (i.e SQL) or the transformations are not foldable. If you are using SQL, check the query logs\"\n",
    "        )\n",
    "  in\n",
    "    fn\n",
    "```"
   ]
  },
  {
   "cell_type": "markdown",
   "metadata": {},
   "source": [
    "## Function 2: __QFAudit\n",
    "\n",
    "This function applies the above `__QFIndicator` function on all the queries returned by the `#Section` function and gives you a sorted list. "
   ]
  },
  {
   "cell_type": "markdown",
   "metadata": {},
   "source": [
    "```\n",
    "// Save as __QFAudit\n",
    "(optional RunFn as text) =>\n",
    "  let\n",
    "    Source = #sections[Section1], \n",
    "    #\"Converted to Table\" = Record.ToTable(Source), \n",
    "    #\"Removed Errors\" = Table.RemoveRowsWithErrors(#\"Converted to Table\"), \n",
    "    #\"Added Custom\" = Table.AddColumn(\n",
    "            #\"Removed Errors\", \n",
    "            \"IsTable\", \n",
    "            each [Value] is table, \n",
    "            type logical\n",
    "    ), \n",
    "    #\"Filtered Rows\" = Table.SelectRows(#\"Added Custom\", each ([IsTable] = true)), \n",
    "    QFCheck = Table.AddColumn(\n",
    "            #\"Filtered Rows\", \n",
    "            \"QF Check\", \n",
    "             each try __QFIndicator([Value]) otherwise Character.FromNumber(10060) & \" Check the query\", \n",
    "            type text\n",
    "    ), \n",
    "    Result = Table.Sort(QFCheck, {{\"QF Check\", Order.Descending}})\n",
    "  in\n",
    "    Result\n",
    "\n",
    "```"
   ]
  },
  {
   "cell_type": "markdown",
   "metadata": {},
   "source": [
    "![qf1](https://raw.githubusercontent.com/pawarbi/blog/master/images/qf1.png)"
   ]
  },
  {
   "cell_type": "markdown",
   "metadata": {},
   "source": [
    "#### Steps\n",
    "\n",
    "1. Just save these two functions in PowerQuery\n",
    "2. Click `Invoke` on `__QFAudit` function\n",
    "3. It will return a table that looks like below. \n",
    "4. Note that the table doesn't query is not folding. It's prompting you to check the query. In some cases your data source may not support folding and in other query could be folding but `Value.Metadata` may not be able to pick it up. That's just the limitation of the function. You will get the same results in Dataflow where Query Folding indicator is available. "
   ]
  },
  {
   "cell_type": "markdown",
   "metadata": {},
   "source": [
    "![qf2](https://raw.githubusercontent.com/pawarbi/blog/master/images/qf2.png)"
   ]
  },
  {
   "cell_type": "markdown",
   "metadata": {},
   "source": [
    ">note: Another limitation here is that if you add a new query, you will have to invoke the function again. The results of the `#section` are not available in modeling fields and it won't refresh automatically. This is a helper function. You can read more about it [here](https://bengribaudo.com/blog/2021/07/12/5809/power-query-m-primer-part21-identifier-scope-sections)."
   ]
  },
  {
   "cell_type": "markdown",
   "metadata": {},
   "source": [
    "## Resources\n",
    "1. My session on Query Folding : https://player.vimeo.com/video/714177719?h=466f2d1c1b\n",
    "2. Chris Webb's Blog : https://blog.crossjoin.co.uk/2016/08/02/another-way-to-check-query-folding-in-power-bipower-query-m-code/\n",
    "3. 30 Day Query Folding Challenge : https://www.youtube.com/watch?v=9sV3hIn8VTY\n",
    "4. Nikola's blog: https://data-mozart.com/query-folding-devil-is-in-the-detail/\n",
    "5. Query Folding Guidance: https://learn.microsoft.com/en-us/power-bi/guidance/power-query-folding"
   ]
  },
  {
   "cell_type": "markdown",
   "metadata": {},
   "source": [
    "![](https://raw.githubusercontent.com/pawarbi/blog/master/images/srenamecol1.png)"
   ]
  },
  {
   "cell_type": "markdown",
   "metadata": {},
   "source": []
  },
  {
   "cell_type": "markdown",
   "metadata": {},
   "source": []
  }
 ],
 "metadata": {
  "kernelspec": {
   "display_name": "Python 3",
   "language": "python",
   "name": "python3"
  },
  "language_info": {
   "codemirror_mode": {
    "name": "ipython",
    "version": 3
   },
   "file_extension": ".py",
   "mimetype": "text/x-python",
   "name": "python",
   "nbconvert_exporter": "python",
   "pygments_lexer": "ipython3",
   "version": "3.8.5"
  }
 },
 "nbformat": 4,
 "nbformat_minor": 4
}
