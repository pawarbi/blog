{
 "cells": [
  {
   "cell_type": "markdown",
   "metadata": {},
   "source": [
    "# Power BI AutoML Deep Dive\n",
    "> I was invited to speak at Portland Power BI User Group about Power BI AutoML. In this session, I showed how to create business-focussed, robust, explainable machine learning models using the AutoML capabilities in Power BI \n",
    "\n",
    "- toc: true \n",
    "- badges: true\n",
    "- comments: true\n",
    "- categories: [PowerBI, automl, machinelearning]\n",
    "- hide: false"
   ]
  },
  {
   "cell_type": "markdown",
   "metadata": {},
   "source": [
    "## Power BI AutoML Deep Dive\n",
    "\n",
    "In this session I wanted to show, not only how to create the machine learning models, but more importantly how to create models that answer business questions and are explainable and robust. Please watch and let me know your thoughts. Topic covered: \n",
    "\n",
    "   - Machine Learning Basics\n",
    "   - License Requirements\n",
    "   - How to create models that are:\n",
    "       - Business focused (cost/loss functions/profit curves)\n",
    "       - Generalizable (underfitting/overfitting/error terrain analysis)\n",
    "       - Interpretable (SHAP, feature importance)\n",
    "       - Manageable (MLOps process and workflow)\n",
    "   - Recommendations, Limitations\n"
   ]
  },
  {
   "cell_type": "markdown",
   "metadata": {},
   "source": [
    ">youtube: https://youtu.be/_CaFacQiW_E"
   ]
  }
 ],
 "metadata": {
  "kernelspec": {
   "display_name": "Python 3",
   "language": "python",
   "name": "python3"
  },
  "language_info": {
   "codemirror_mode": {
    "name": "ipython",
    "version": 3
   },
   "file_extension": ".py",
   "mimetype": "text/x-python",
   "name": "python",
   "nbconvert_exporter": "python",
   "pygments_lexer": "ipython3",
   "version": "3.6.10"
  }
 },
 "nbformat": 4,
 "nbformat_minor": 4
}
