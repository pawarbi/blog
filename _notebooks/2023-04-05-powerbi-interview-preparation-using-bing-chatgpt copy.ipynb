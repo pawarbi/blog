{
 "cells": [
  {
   "attachments": {},
   "cell_type": "markdown",
   "metadata": {},
   "source": [
    "# Controlling Marker Size Sensitivity in Power BI Scatter Plot\n",
    "> Quick tip to adjust sensitivity of marker size in scatter plot\n",
    "\n",
    "- toc: true \n",
    "- badges: true\n",
    "- comments: true\n",
    "- categories: [powerbi, dataviz, scatterplot]\n",
    "- hide: false"
   ]
  },
  {
   "attachments": {},
   "cell_type": "markdown",
   "metadata": {},
   "source": [
    "## The Problem: \n",
    "\n",
    "\n",
    "\n",
    "In Power BI, when you create a scatter plot, you have an option to change the size of the marker based on a column or a measure. This helps the user to do multivariate analysis by encoding the marker size. Although you can change the size of the marker, only the developer can set it and a big limitation is that the size scales uniformly. See below for example. The left scatter plot is the default and the one on the right is after controlling the sensitivity. \n",
    "\n",
    "\n",
    "![](https://raw.githubusercontent.com/pawarbi/blog/master/images/marker%20sensitivity.gif)\n",
    "\n",
    "\n"
   ]
  },
  {
   "attachments": {},
   "cell_type": "markdown",
   "metadata": {},
   "source": [
    "\n",
    "## The Solution\n",
    "\n",
    "Solution is rather simple. We just create another measure and exponentiate it to lengthen the scale. For example, if you have a measure `[Sales]` used to denote marker size, you use `[Sales]^100`. To give the developer and user better control, we can create parameter to adjust the value. Watch the video on how to do this :\n",
    "\n",
    ">youtube: https://youtu.be/OctAWvw_hdw\n",
    "\n",
    "\n"
   ]
  },
  {
   "cell_type": "markdown",
   "metadata": {},
   "source": []
  }
 ],
 "metadata": {
  "kernelspec": {
   "display_name": "base",
   "language": "python",
   "name": "python3"
  },
  "language_info": {
   "codemirror_mode": {
    "name": "ipython",
    "version": 3
   },
   "file_extension": ".py",
   "mimetype": "text/x-python",
   "name": "python",
   "nbconvert_exporter": "python",
   "pygments_lexer": "ipython3",
   "version": "3.9.12"
  },
  "vscode": {
   "interpreter": {
    "hash": "b8978f34abf069a71992295c7e5c28f04fc9fde7ed651ca3a1ebc7d2aa846365"
   }
  }
 },
 "nbformat": 4,
 "nbformat_minor": 4
}
