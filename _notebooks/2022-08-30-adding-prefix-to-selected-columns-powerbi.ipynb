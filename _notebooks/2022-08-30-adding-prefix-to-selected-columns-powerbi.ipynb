{
 "cells": [
  {
   "cell_type": "markdown",
   "metadata": {},
   "source": [
    "# Adding Prefix To Selected Columns In Power BI Using Tabular Editor\n",
    "> Two approaches to add prefix to all the selected columns in Power BI using Tabular Editor\n",
    "\n",
    "- toc: true \n",
    "- badges: true\n",
    "- comments: true\n",
    "- categories: [powerbi, tabulareditor]\n",
    "- hide: false"
   ]
  },
  {
   "cell_type": "markdown",
   "metadata": {},
   "source": [
    "## Adding Prefix\n",
    "\n",
    "I had a date table with 50+ columns and all the columns needed to have \"Effective\" in the front. So instead of just Date, I needed it to be \"Effective Date\". If it was just a couple of columns, I could rename them manually. We can also [rename columns dynamically using M](https://goodly.co.in/dynamic-column-names-power-query/) when the data is imported in PowerQuery. But imagine a scenario where you are importing one date table and you want to create another date table using calculated table (for role playing dimensions) where the new date table needs to have all the columns prefixed with \"Effective\" or \"Ship\" etc. That's where below techniques will be helpful. You will need to install [Tabular Editor](https://www.sqlbi.com/tools/tabular-editor/) first. "
   ]
  },
  {
   "cell_type": "markdown",
   "metadata": {},
   "source": [
    "![](https://raw.githubusercontent.com/pawarbi/blog/master/images/srenamecol1.png)"
   ]
  },
  {
   "cell_type": "markdown",
   "metadata": {},
   "source": [
    "![](https://raw.githubusercontent.com/pawarbi/blog/master/images/renamecol1.PNG)\n"
   ]
  },
  {
   "cell_type": "markdown",
   "metadata": {},
   "source": [
    "## 1. Rename + Regex\n",
    "\n",
    "\n",
    "1. Open Tabular Editor and connect it to the Power BI Desktop instance \n",
    "2. Select all the columns you want to rename\n",
    "3. Press F2 or right click > Batch Rename\n",
    "4. Select \"Use Regular Expressions\"\n",
    "5. In the Find option, enter ```\\w.+``` . This will select start of the line.\n",
    "6. In the Replace, enter ```Effective $& ```. $& will select the existing string.\n",
    "7. Click Ok.\n",
    "\n",
    "\n",
    "\n",
    "![](https://raw.githubusercontent.com/pawarbi/blog/master/images/renamecol3.JPG)\n"
   ]
  },
  {
   "cell_type": "markdown",
   "metadata": {},
   "source": [
    "## 2. Using C# Script\n",
    "\n",
    "\n",
    "1. Open Tabular Editor and connect it to the Power BI Desktop instance \n",
    "2. In the C# Script window, enter below script\n",
    "3. Select all the columns you want to rename\n",
    "4. Run the script\n",
    "\n",
    "\n",
    "```\n",
    "//1. Change the prefix below, notice the space at the end.\n",
    "//2. Select all the columns to rename\n",
    "\n",
    "var prefix = \"Effective \";\n",
    "\n",
    "foreach (var col in Selected.Columns)\n",
    "    {\n",
    "        \n",
    "        col.Name = prefix + col.Name;\n",
    "    }\n",
    "\n",
    "```\n",
    "\n",
    "![](https://raw.githubusercontent.com/pawarbi/blog/master/images/renamecol2.JPG)"
   ]
  },
  {
   "cell_type": "markdown",
   "metadata": {},
   "source": [
    "Note here that we are editing the tabular object model which means these changes won't create a step in the Power Query. Depending on your scenario, data source, data quality etc. you may or may not want that. I showed this for columns but you can use it for renaming measures as well. For measures, change the C# script from *Selected.Columns* to *Selected.Measures*. \n",
    "\n",
    "\n",
    "## References\n",
    "1. https://regexr.com/\n",
    "2. Useful C# scripts : https://docs.tabulareditor.com/te2/Useful-script-snippets.html"
   ]
  },
  {
   "cell_type": "markdown",
   "metadata": {},
   "source": []
  }
 ],
 "metadata": {
  "kernelspec": {
   "display_name": "Python 3",
   "language": "python",
   "name": "python3"
  },
  "language_info": {
   "codemirror_mode": {
    "name": "ipython",
    "version": 3
   },
   "file_extension": ".py",
   "mimetype": "text/x-python",
   "name": "python",
   "nbconvert_exporter": "python",
   "pygments_lexer": "ipython3",
   "version": "3.8.5"
  }
 },
 "nbformat": 4,
 "nbformat_minor": 4
}
