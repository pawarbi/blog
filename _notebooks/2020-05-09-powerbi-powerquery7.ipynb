{
 "cells": [
  {
   "cell_type": "markdown",
   "metadata": {},
   "source": [
    "# Power Query - Dynamically Selecting Columns with Specific Words \n",
    "> In the second part of this blog series on forecasting I discuss forecasting steps, evaluation of forecasting methods, model selection, combinining models for robust and accurate forecasting and forecast uncertainty.  \n",
    "\n",
    "- toc: true \n",
    "- badges: true\n",
    "- comments: true\n",
    "- categories: [powerbi, powerquery, #30DQUERY]\n",
    "- hide: false"
   ]
  },
  {
   "cell_type": "markdown",
   "metadata": {},
   "source": [
    "## Challenge 7\n",
    "\n",
    "[Alex Powers](https://itsnotaboutthecell.com/about/) is running a Power Query Challenge to write M code that can fold. \n",
    "Read more about Query Folding [here](https://docs.microsoft.com/en-us/power-query/power-query-folding)\n",
    "\n",
    "Below is Alex's video. You can find out more challenges on his [YouTube channel](https://www.youtube.com/channel/UCfz8kQWzTkXU0erBLjdc4dg) \n",
    "\n",
    "I wanted to write this one on the blog because it's a useful recipe that I can see myself using in the future."
   ]
  },
  {
   "cell_type": "markdown",
   "metadata": {},
   "source": [
    ">youtube: https://youtu.be/XgRtTA-GkxE"
   ]
  },
  {
   "cell_type": "markdown",
   "metadata": {},
   "source": [
    "### My Solution\n",
    "\n",
    "1. Get a list of column names with `Table.ColumnNames(..)`\n",
    "2. Convert the list to table and filter out the names with \"Dim\" in them by `Text.Contains(..)`\n",
    "3. Pass the filtered list to `Table.SelectColumns(..)`"
   ]
  },
  {
   "cell_type": "markdown",
   "metadata": {},
   "source": [
    "`let\n",
    "\t// Database\n",
    "\tSource2              = Sql.Databases(\"localhost\"),\n",
    "\tAdventureWorksDW2017 = Source2{[Name = \"AdventureWorksDW2017\"]}[Data],\n",
    "\tdbo_DimEmployee\n",
    "\t\t= AdventureWorksDW2017{[Schema = \"dbo\", Item = \"DimEmployee\"]}[Data],\n",
    "\t// Get Column Names\n",
    "\tcols                 = Table.ColumnNames(dbo_DimEmployee),\n",
    "\t// Convert to Table and filter out names that contain \"Dim\n",
    "\tto_table             = Table.FromList(cols),\n",
    "\tfilter               = Table.SelectRows(\n",
    "\t\tto_table, \n",
    "\t\teach not Text.Contains([Column1], \"Dim\")\n",
    "\t),\n",
    "\tfinal_cols           = filter[Column1],\n",
    "\t// Select Columns\n",
    "\tDimEmployee_table    = Table.SelectColumns(dbo_DimEmployee, final_cols)\n",
    "in\n",
    "\tDimEmployee_table`"
   ]
  },
  {
   "cell_type": "markdown",
   "metadata": {},
   "source": [
    "#### Query is foldable\n",
    "\n",
    "![](https://raw.githubusercontent.com/pawarbi/blog/master/images/query7.jpg)"
   ]
  }
 ],
 "metadata": {
  "kernelspec": {
   "display_name": "Python 3",
   "language": "python",
   "name": "python3"
  },
  "language_info": {
   "codemirror_mode": {
    "name": "ipython",
    "version": 3
   },
   "file_extension": ".py",
   "mimetype": "text/x-python",
   "name": "python",
   "nbconvert_exporter": "python",
   "pygments_lexer": "ipython3",
   "version": "3.6.10"
  }
 },
 "nbformat": 4,
 "nbformat_minor": 2
}
