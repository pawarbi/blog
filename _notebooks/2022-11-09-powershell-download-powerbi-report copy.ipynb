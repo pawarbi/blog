{
 "cells": [
  {
   "cell_type": "markdown",
   "metadata": {},
   "source": [
    "# Introduction To Tabular Editor\n",
    "> I presented an introductory session on Tabular Editor at Delhi Power BI User Group\n",
    "\n",
    "- toc: true \n",
    "- badges: true\n",
    "- comments: true\n",
    "- categories: [powerbi, powershell, automation]\n",
    "- hide: false"
   ]
  },
  {
   "cell_type": "markdown",
   "metadata": {},
   "source": [
    "## Prerequisites\n",
    "\n",
    "1. `MicrosoftPowerBIMgmt` module already [installed](https://learn.microsoft.com/en-us/powershell/power-bi/overview?view=powerbi-ps)\n",
    "2. To download a report, [you at least must](https://learn.microsoft.com/en-us/power-bi/create-reports/service-export-to-pbix) be a Contributor to the worskpace\n",
    "3. CSV file with two columns `report_id` and `file_name`. Report ID is the ID of the report from Power BI service and file name is what you want the file to be saved as. \n",
    "4. This will only download the report along with the data; i.e. not as a thin report with live connection. This option hasn't been made available yet in PowerShell as of writing this blog (10/11/2022)\n",
    "5. [Be aware of limitations of downloading a report](https://learn.microsoft.com/en-us/power-bi/create-reports/service-export-to-pbix#limitations-when-downloading-a-report-pbix-file) \n",
    "\n",
    "The CSV file should be in the following format: \n",
    "\n",
    "\n",
    "![](https://raw.githubusercontent.com/pawarbi/blog/master/images/powershell-downlaod.jpg)"
   ]
  },
  {
   "cell_type": "markdown",
   "metadata": {},
   "source": [
    "## Script\n",
    "```\n",
    "Import-Module MicrosoftPowerBIMgmt\n",
    "Connect-PowerBIServiceAccount\n",
    "\n",
    "#Specify location of the CSV file. The code expects two columns: 'report_id' and 'file_name'\n",
    "#Report_id is the Report ID of the Power BI report you want to download\n",
    "#File name is the name you want the report to be saved as\n",
    "$Csv = Import-Csv -Path \"C:\\Users\\User\\Downloads\\download reports.csv\"\n",
    "\n",
    "#Specify where to download the PBIX\n",
    "$path = \"C:\\Users\\User\\Downloads\\\"\n",
    "\n",
    "\n",
    "foreach ($Csv in $Csv)\n",
    "{\n",
    "$report= $Csv.report_id\n",
    "$file_name = $Csv.file_name\n",
    "\n",
    "if ([string]::IsNullOrEmpty($report) -or ([string]::IsNullOrEmpty($file_name)))\n",
    "    {\n",
    "\n",
    "     Write-Output \"Report ID or File name missing\"  \n",
    "    \n",
    "    }\n",
    "\n",
    "else \n",
    "    {\n",
    "   \n",
    "     Write-Output \"Downloading.... \" $file_name  \n",
    "     Export-PowerBIReport -Id $report -OutFile  $path$file_name\n",
    "    \n",
    "    }\n",
    "\n",
    "}\n",
    "\n",
    "```\n"
   ]
  },
  {
   "cell_type": "markdown",
   "metadata": {},
   "source": [
    "![](https://raw.githubusercontent.com/pawarbi/blog/master/images/srenamecol1.png)"
   ]
  },
  {
   "cell_type": "markdown",
   "metadata": {},
   "source": [
    "I will update this script when it's possible to download the thin report using PowerShell. If you find any errors or have a better version, please let me know. "
   ]
  }
 ],
 "metadata": {
  "kernelspec": {
   "display_name": "Python 3",
   "language": "python",
   "name": "python3"
  },
  "language_info": {
   "codemirror_mode": {
    "name": "ipython",
    "version": 3
   },
   "file_extension": ".py",
   "mimetype": "text/x-python",
   "name": "python",
   "nbconvert_exporter": "python",
   "pygments_lexer": "ipython3",
   "version": "3.8.5"
  }
 },
 "nbformat": 4,
 "nbformat_minor": 4
}
