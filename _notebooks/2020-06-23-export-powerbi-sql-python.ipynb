{
 "cells": [
  {
   "cell_type": "markdown",
   "metadata": {},
   "source": [
    "# Exporting Data From Power BI to SQL Server Using Python\n",
    "> Exporting data in Power Query to a SQL server using Python \n",
    "\n",
    "- toc: true \n",
    "- badges: true\n",
    "- comments: true\n",
    "- categories: [powerbi,Python,SQL,export]\n",
    "- hide: false"
   ]
  },
  {
   "cell_type": "markdown",
   "metadata": {},
   "source": [
    "## Exporting to SQL\n",
    "\n",
    "Watch the video below for exporting data from Power Query to SQL Server. Below are the links to the blogs and packages mentioned in the video: \n",
    "\n",
    "   - [Exporting to SQL server using R](https://www.biinsight.com/export-power-bi-service-data-to-sql-server/)\n",
    "   - [Exporting a CSV using Python](https://www.thebiccountant.com/2018/12/29/export-data-from-power-bi-to-csv-using-python/)\n",
    "   - [SQL Server Management Studio](https://docs.microsoft.com/en-us/sql/ssms/download-sql-server-management-studio-ssms?view=sql-server-ver15)\n",
    "   - [SQLAlchemy](https://www.sqlalchemy.org/)\n",
    "   - [Recommendations for Using Python/R in Power BI](https://pawarbi.github.io/blog/powerbi/r/python/2020/05/15/powerbi-python-r-tips.html)\n",
    "   - [Writing M Custom Function Documentation](https://docs.microsoft.com/en-us/power-query/handlingdocumentation)"
   ]
  },
  {
   "cell_type": "markdown",
   "metadata": {},
   "source": [
    "## Python Code\n",
    "\n",
    " - Install Python, Sqlalchemy \n",
    " - Setup Python in Power BI \n",
    " - Temporarily set the data privacy to Public. Be sure to change it back to the original privacy level\n",
    " - Delete the export query after you are done exprting to SQL server\n",
    "\n"
   ]
  },
  {
   "cell_type": "code",
   "execution_count": 4,
   "metadata": {},
   "outputs": [
    {
     "ename": "SyntaxError",
     "evalue": "invalid syntax (<ipython-input-4-fbee24279741>, line 12)",
     "output_type": "error",
     "traceback": [
      "\u001b[1;36m  File \u001b[1;32m\"<ipython-input-4-fbee24279741>\"\u001b[1;36m, line \u001b[1;32m12\u001b[0m\n\u001b[1;33m    \u001b[0m\n\u001b[1;37m    ^\u001b[0m\n\u001b[1;31mSyntaxError\u001b[0m\u001b[1;31m:\u001b[0m invalid syntax\n"
     ]
    }
   ],
   "source": [
    "#hide_output\n",
    "import sqlalchemy\n",
    "\n",
    "\n",
    "from sqlalchemy import create_engine, MetaData, Table, select\n",
    "\n",
    "\n",
    "from six.moves import urllib\n",
    "\n",
    "\n",
    "params = \\\n",
    "\n",
    "    urllib.parse.quote_plus('DRIVER=ODBC Driver 17 for SQL Server;SERVER=localhost;DATABASE=pbi;trusted_connection=yes'\n",
    "\n",
    "                            )\n",
    "\n",
    "\n",
    "\n",
    "engine = sqlalchemy.create_engine('mssql+pyodbc:///?odbc_connect=%s'\n",
    "\n",
    "                                  % params, echo=False)\n",
    "\n",
    "\n",
    "connection = engine.raw_connection()\n",
    "\n",
    "\n",
    "dataset.to_sql(name='from_pbi2', con=engine, index=False,\n",
    "\n",
    "               if_exists='append') // or 'replace'"
   ]
  },
  {
   "cell_type": "markdown",
   "metadata": {},
   "source": [
    "## PowerQuery Custom Function\n",
    "\n",
    "Copy everything between the dotted lines ( --- )  and paste it in the 'Advanced Editor'. "
   ]
  },
  {
   "cell_type": "code",
   "execution_count": 5,
   "metadata": {},
   "outputs": [
    {
     "data": {
      "text/plain": [
       "'\\n\\n\\n---------------------------------Start Copy--------------------------------------------------------\\n\\n\\nlet fn = (source as table, Driver as text, database as text, table as text, server as text, if_exists as text) as table =>\\n\\n let\\n    Source = source,\\n    \\n    // Script to Export Power BI to SQL database \\n    // Author: Sandeep Pawar \\n    // Visit www.pawarbi.com for details and \\n    // Version: 0.1\\n    // Date: Jun 23,2020\\n\\n    Run_Python = Python.Execute(\"# \\'dataset\\' holds the input data for this script#(lf)# install pyodbc , sqlalchemy#(lf)import sqlalchemy#(lf)#(lf)from sqlalchemy import create_engine, MetaData, Table, select#(lf)#(lf)from six.moves import urllib#(lf)#(lf)# change SERVER name with your server name & database name with your database name#(lf)# For Driver, search odbc in Windows > Driver Use the driver installed there#(lf)params = urllib.parse.quote_plus(\"\"DRIVER=\"&Text.From(Driver)&\";SERVER=\"&Text.From(server)&\";DATABASE=\"&Text.From(database)&\";trusted_connection=yes\"\")#(lf)#(lf)engine = sqlalchemy.create_engine(\"\"mssql+pyodbc:///?odbc_connect=%s\"\" % params, echo=False) #(lf)#(lf)connection = engine.raw_connection()#(lf)#(lf)#engine.connect() #(lf)# suppose df is the data-frame that we want to insert in database#(lf)#(lf)#if_exists: Use replace if you want to replace an existing table with named \"\"from_pbi\"\" You can use any table name#(lf)dataset.to_sql(name=\"&Text.From(table)&\",con=engine, index=False, if_exists=\"&Text.From(if_exists)&\")\",[dataset=Source])\\n in\\n   \\n    Run_Python,\\n\\ndocumentation = [\\nDocumentation.Name   = \" Export to SQL\",\\nDocumentation.Description = \" Power BI to SQL export Using Python  \",\\nDocumentation.Category = \" Table \",\\nDocumentation.Source = \"www.PawarBI.com \",\\nDocumentation.Author = \" Sandeep Pawar PawarBI.com  \",\\nDocumentation.Examples = {[Description =  \"Use this function to export a dataset imported in Power Query to a SQL Server database. You will need to install Python, Pandas, pyodbc and sqlalchemy for this code to work. If you get firewall error, set the data privacy to public for the purposes of exporting the data and then you can revert it back to chosen data privacy setting. Visit www.pawarbi.com or my youtube channel \\'PawarBI\\' for details\",\\nCode = \"Enter SQL Driver: SQL Server Driver 17, \\ndatabase: pbi, \\ntable: \\'from_pbi\\', \\nif_exists: \\'replace\\' or \\'append\\'  \",\\nResult = \" The script will export the data to the specified SQL server, under \\'pbi\\' database in table named \\'from_pbi\\'  \"]}]\\n  \\nin  \\n  Value.ReplaceType(fn, Value.ReplaceMetadata(Value.Type(fn), documentation))\\n\\n\\n\\n---------------------------------------End Copy-----------------------------------------------------------------------\\n\\n\\n\\n\\n\\n\\n\\n\\n'"
      ]
     },
     "execution_count": 5,
     "metadata": {},
     "output_type": "execute_result"
    }
   ],
   "source": [
    "#hide_output\n",
    "\"\"\"\n",
    "\n",
    "\n",
    "---------------------------------Start Copy--------------------------------------------------------\n",
    "\n",
    "\n",
    "let fn = (source as table, Driver as text, database as text, table as text, server as text, if_exists as text) as table =>\n",
    "\n",
    " let\n",
    "    Source = source,\n",
    "    \n",
    "    // Script to Export Power BI to SQL database \n",
    "    // Author: Sandeep Pawar \n",
    "    // Visit www.pawarbi.com for details and \n",
    "    // Version: 0.1\n",
    "    // Date: Jun 23,2020\n",
    "\n",
    "    Run_Python = Python.Execute(\"# 'dataset' holds the input data for this script#(lf)# install pyodbc , sqlalchemy#(lf)import sqlalchemy#(lf)#(lf)from sqlalchemy import create_engine, MetaData, Table, select#(lf)#(lf)from six.moves import urllib#(lf)#(lf)# change SERVER name with your server name & database name with your database name#(lf)# For Driver, search odbc in Windows > Driver Use the driver installed there#(lf)params = urllib.parse.quote_plus(\"\"DRIVER=\"&Text.From(Driver)&\";SERVER=\"&Text.From(server)&\";DATABASE=\"&Text.From(database)&\";trusted_connection=yes\"\")#(lf)#(lf)engine = sqlalchemy.create_engine(\"\"mssql+pyodbc:///?odbc_connect=%s\"\" % params, echo=False) #(lf)#(lf)connection = engine.raw_connection()#(lf)#(lf)#engine.connect() #(lf)# suppose df is the data-frame that we want to insert in database#(lf)#(lf)#if_exists: Use replace if you want to replace an existing table with named \"\"from_pbi\"\" You can use any table name#(lf)dataset.to_sql(name=\"&Text.From(table)&\",con=engine, index=False, if_exists=\"&Text.From(if_exists)&\")\",[dataset=Source])\n",
    " in\n",
    "   \n",
    "    Run_Python,\n",
    "\n",
    "documentation = [\n",
    "Documentation.Name   = \" Export to SQL\",\n",
    "Documentation.Description = \" Power BI to SQL export Using Python  \",\n",
    "Documentation.Category = \" Table \",\n",
    "Documentation.Source = \"www.PawarBI.com \",\n",
    "Documentation.Author = \" Sandeep Pawar PawarBI.com  \",\n",
    "Documentation.Examples = {[Description =  \"Use this function to export a dataset imported in Power Query to a SQL Server database. You will need to install Python, Pandas, pyodbc and sqlalchemy for this code to work. If you get firewall error, set the data privacy to public for the purposes of exporting the data and then you can revert it back to chosen data privacy setting. Visit www.pawarbi.com or my youtube channel 'PawarBI' for details\",\n",
    "Code = \"Enter SQL Driver: SQL Server Driver 17, \n",
    "database: pbi, \n",
    "table: 'from_pbi', \n",
    "if_exists: 'replace' or 'append'  \",\n",
    "Result = \" The script will export the data to the specified SQL server, under 'pbi' database in table named 'from_pbi'  \"]}]\n",
    "  \n",
    "in  \n",
    "  Value.ReplaceType(fn, Value.ReplaceMetadata(Value.Type(fn), documentation))\n",
    "\n",
    "\n",
    "\n",
    "---------------------------------------End Copy-----------------------------------------------------------------------\n",
    "\n",
    "\n",
    "\n",
    "\n",
    "\n",
    "\n",
    "\n",
    "\n",
    "\"\"\""
   ]
  },
  {
   "cell_type": "markdown",
   "metadata": {},
   "source": [
    "> youtube: https://youtu.be/ke_aYyBRE9U"
   ]
  },
  {
   "cell_type": "code",
   "execution_count": null,
   "metadata": {},
   "outputs": [],
   "source": []
  },
  {
   "cell_type": "code",
   "execution_count": null,
   "metadata": {},
   "outputs": [],
   "source": []
  }
 ],
 "metadata": {
  "kernelspec": {
   "display_name": "Python 3",
   "language": "python",
   "name": "python3"
  },
  "language_info": {
   "codemirror_mode": {
    "name": "ipython",
    "version": 3
   },
   "file_extension": ".py",
   "mimetype": "text/x-python",
   "name": "python",
   "nbconvert_exporter": "python",
   "pygments_lexer": "ipython3",
   "version": "3.6.10"
  }
 },
 "nbformat": 4,
 "nbformat_minor": 2
}
