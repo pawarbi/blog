{
 "cells": [
  {
   "attachments": {},
   "cell_type": "markdown",
   "metadata": {},
   "source": [
    "# Preparing For Power BI (or Any) Interview With Bing/ChatGPT's Help\n",
    "> Using articles from SQLBI to generate interview questions\n",
    "\n",
    "- toc: true \n",
    "- badges: true\n",
    "- comments: true\n",
    "- categories: [powerbi, interview, chatgpt, bing]\n",
    "- hide: false"
   ]
  },
  {
   "attachments": {},
   "cell_type": "markdown",
   "metadata": {},
   "source": [
    "## Prompt: \n",
    "\n",
    "\n",
    "\n",
    "Generate interview questions based on the following articles. Questions should not be vague. The purpose of the interview is to test interviewee's technical competency and real world experience with using CALCULATE in DAX. Avoid using trick questions. Categorize the questions into 3 levels: Beginner, Intermediate and Expert. Give the interviewee a real world example of Sales analysis for a company that sells umbrellas in US, Vietnam and Brazil. Explain the table, columns and measures briefly and then ask questions based on this example. Don't include answers. Do not ask for anything that is outside these articles.\n",
    " \n",
    "https://www.sqlbi.com/articles/introducing-calculate-in-dax/\n",
    "\n",
    "https://www.sqlbi.com/articles/understanding-context-transition-in-dax/\n",
    "\n",
    "https://www.sqlbi.com/articles/filter-context-in-dax/\n",
    "\n",
    "https://www.sqlbi.com/articles/row-context-in-dax/\n",
    "\n"
   ]
  },
  {
   "attachments": {},
   "cell_type": "markdown",
   "metadata": {},
   "source": [
    "\n",
    "## Answers\n",
    "Below is Bing's Response.\n",
    "```\n",
    "text\n",
    "Some possible interview questions based on the articles are:\n",
    "\n",
    "- Beginner level:\n",
    "  - What is the difference between row context and filter context in DAX?\n",
    "  - What is the purpose of the CALCULATE function in DAX?\n",
    "  - How can you use CALCULATE to modify the filter context of an expression?\n",
    "  - What are some examples of filter arguments that can be used with CALCULATE?\n",
    "  - What is the difference between short syntax and long syntax for filter arguments in CALCULATE?\n",
    "\n",
    "- Intermediate level:\n",
    "  - How does CALCULATE handle existing filters in the filter context?\n",
    "  - What are some filter modifier functions that can be used with CALCULATE?\n",
    "  - How can you use USERELATIONSHIP and CROSSFILTER functions with CALCULATE to modify or activate relationships?\n",
    "  - What is context transition and how does it affect the behavior of CALCULATE?\n",
    "  - How can you use variables to store intermediate results in a CALCULATE expression?\n",
    "\n",
    "- Expert level:\n",
    "  - How does CALCULATE handle complex filter conditions that involve multiple columns or tables?\n",
    "  - How can you use KEEPFILTERS and REMOVEFILTERS functions with CALCULATE to preserve or remove existing filters?\n",
    "  - How can you use ALL, ALLEXCEPT and ALLNOBLANKROW functions with CALCULATE to remove filters from one or more columns or tables?\n",
    "  - How can you use FILTER function with CALCULATE to apply custom filter conditions that cannot be defined by a Boolean expression?\n",
    "  - How can you use CALCULATETABLE function to modify the filter context of an expression that returns a table object?\n",
    "\n",
    "A real world example of Sales analysis for a company that sells umbrellas in US, Vietnam and Brazil is:\n",
    "\n",
    "- Table: Sales\n",
    "- Columns: \n",
    "  - Date: The date of the sale\n",
    "  - Country: The country where the sale occurred (US, Vietnam or Brazil)\n",
    "  - Product: The product name of the umbrella sold\n",
    "  - Quantity: The number of units sold\n",
    "  - Price: The unit price of the product\n",
    "- Measures:\n",
    "  - Sales Amount: The total amount of sales, calculated as Quantity * Price\n",
    "  - Average Price: The average price of sales, calculated as Sales Amount / Quantity\n",
    "  - Sales Quantity: The total number of units sold, calculated as SUM ( Sales [Quantity] )\n",
    "\n",
    "Some questions based on this example are:\n",
    "\n",
    "- Beginner level:\n",
    "  - What is the sales amount for Brazil in January 2020?\n",
    "  - How can you use CALCULATE to filter the sales amount by a specific product name?\n",
    "  - How can you use CALCULATE to show the sales amount for each country as a percentage of the total sales amount?\n",
    "\n",
    "- Intermediate level:\n",
    "  - What is the average price for Vietnam in February 2020?\n",
    "  - How can you use CALCULATE to show the average price for each product as a percentage of the average price for all products?\n",
    "  - How can you use CALCULATE to compare the sales quantity for each country with the previous month?\n",
    "\n",
    "- Expert level:\n",
    "  - What is the sales quantity for US in March 2020 for products that have a price higher than the average price for all products?\n",
    "  - How can you use CALCULATE to show the sales quantity for each product as a percentage of the sales quantity for its country?\n",
    "  - How can you use CALCULATE to compare the sales amount for each country with the same month of the previous year?\n",
    "\n",
    "\n",
    "```"
   ]
  },
  {
   "attachments": {},
   "cell_type": "markdown",
   "metadata": {},
   "source": [
    "Below is ChatGPT 4's response: *This was using March 23 Version of ChatGPT*\n",
    "\n",
    "```\n",
    "Table description: The table, named \"Sales\", contains the following columns:\n",
    "\n",
    "OrderID: Unique identifier for each order\n",
    "Date: Date when the order was placed\n",
    "Country: Country where the order was made (US, Vietnam, or Brazil)\n",
    "Quantity: Number of umbrellas sold in the order\n",
    "Price: Price per umbrella\n",
    "Discount: Discount applied to the order (as a decimal, e.g., 0.10 for a 10% discount)\n",
    "The following measures have been created:\n",
    "\n",
    "TotalSales: Total sales amount\n",
    "TotalDiscount: Total discount amount\n",
    "NetSales: Total sales amount after applying the discount\n",
    "Beginner:\n",
    "\n",
    "What is the purpose of the CALCULATE function in DAX?\n",
    "How do you use the CALCULATE function to compute the total sales for umbrellas in the US only?\n",
    "How would you calculate the average sales per order in Brazil using CALCULATE?\n",
    "Intermediate:\n",
    "\n",
    "Explain the difference between filter context and row context in DAX.\n",
    "How does context transition occur, and how does it relate to the CALCULATE function?\n",
    "Write a DAX formula to calculate the total sales for umbrellas in the last 30 days, using the CALCULATE function.\n",
    "Expert:\n",
    "\n",
    "Can you describe a scenario where context transition might produce unexpected results, and how you would address it in the context of our umbrella sales example?\n",
    "How would you create a measure that calculates the percentage of total sales coming from discounted orders, using the CALCULATE function?\n",
    "Write a DAX formula that calculates the total sales in Vietnam only for the orders that have a higher sales amount than the average sales amount in the US, using the CALCULATE function.\n",
    "\n",
    "\n",
    "```"
   ]
  },
  {
   "attachments": {},
   "cell_type": "markdown",
   "metadata": {},
   "source": [
    "**For reproducibility, here are the settings I used in Bing**: \n",
    "\n",
    "\n",
    "![](https://raw.githubusercontent.com/pawarbi/blog/master/images/powerbi-interview-gpt.png)"
   ]
  },
  {
   "attachments": {},
   "cell_type": "markdown",
   "metadata": {},
   "source": [
    "In the initial tests, both Bing and ChatGPT asked questions that were outside the scope of these articles, so I added `Do not ask for anything that is outside these articles` to get a better response. Overall, I think the questions are generic and do like how it it ramped up the complexity from beginner to expert. Note that it is based on the articles I included in the prompt, so the interview questions are not comprehensive, especially the Expert questions. If I added more articles and transcripts using [Whisper](https://openai.com/research/whisper) (from SQLBI and non-SQLBI), it might generate more diverese questions. You can also use it to get answers.\n",
    "\n",
    "I do hope Marco and Alberto create an open-source ChatGPT plugin that can be used to interact with their articles. I am also exploring developing something similar as a side project.\n",
    "\n",
    "As with anything GPT, do your own research and use it at your own risk. These LLM models are black-boxes and suffer from [hallucinations](https://spectrum.ieee.org/ai-hallucination) and *will* give incorrect answers. Read [this article](https://zapier.com/blog/ai-hallucinations/) for general guidelines on improving the responses."
   ]
  },
  {
   "cell_type": "markdown",
   "metadata": {},
   "source": []
  }
 ],
 "metadata": {
  "kernelspec": {
   "display_name": "base",
   "language": "python",
   "name": "python3"
  },
  "language_info": {
   "codemirror_mode": {
    "name": "ipython",
    "version": 3
   },
   "file_extension": ".py",
   "mimetype": "text/x-python",
   "name": "python",
   "nbconvert_exporter": "python",
   "pygments_lexer": "ipython3",
   "version": "3.9.12"
  },
  "vscode": {
   "interpreter": {
    "hash": "b8978f34abf069a71992295c7e5c28f04fc9fde7ed651ca3a1ebc7d2aa846365"
   }
  }
 },
 "nbformat": 4,
 "nbformat_minor": 4
}
