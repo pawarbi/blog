{
 "cells": [
  {
   "cell_type": "markdown",
   "metadata": {},
   "source": [
    "# [Video] Time Series Forecasting in Power BI\n",
    "> Recording of my presentation at Global AI Bootcamp, Singapore on Jan 17, 2021 \n",
    "\n",
    "- toc: true \n",
    "- badges: true\n",
    "- comments: true\n",
    "- categories: [PowerBI, forecasting, ETS]\n",
    "- hide: false"
   ]
  },
  {
   "cell_type": "markdown",
   "metadata": {},
   "source": [
    "## Forecasting in Power BI\n",
    "\n",
    "I have written and talked about Time Series Forecasting previously, especially on how to create forecasts in Power BI. You can refer to my previous blog posts below:\n",
    "\n",
    "**Time series Forecasting in Python & R, Part 1 (EDA)**: [Link](https://pawarbi.github.io/blog/forecasting/r/python/rpy2/altair/2020/04/21/timeseries-part1.html) This blog covers exploratory data analysis techniques for time series data before creating the forecast. \n",
    "\n",
    "**Time series Forecasting in Python & R, Part 2 (Forecasting)**: [Link](https://pawarbi.github.io/blog/forecasting/r/python/rpy2/altair/fbprophet/ensemble_forecast/uncertainty/simulation/2020/04/21/timeseries-part2.html) Here I go into theoretical and practical aspects of creatings forecasts using many different classical forecasting methods\n",
    "\n",
    "**Time series Forecasting in Power BI**: [Link](https://pawarbi.github.io/blog/forecasting/python/powerbi/forecasting_in_powerbi/2020/04/24/timeseries-powerbi.html) This blog shows how to create forecasts in Power BI, its strengths, limitations, and my recommendations.   "
   ]
  },
  {
   "cell_type": "markdown",
   "metadata": {},
   "source": [
    "I recently presented on this topic at [Global AI Bootcamp, Singapore](http://www.aibootcampsg.com/). Here is the recording of that presentation. It summarizes my findings from the blog above.\n",
    "\n"
   ]
  },
  {
   "cell_type": "markdown",
   "metadata": {},
   "source": [
    ">youtube: https://t.co/TgzJsMUncd?amp=1"
   ]
  }
 ],
 "metadata": {
  "kernelspec": {
   "display_name": "Python 3",
   "language": "python",
   "name": "python3"
  },
  "language_info": {
   "codemirror_mode": {
    "name": "ipython",
    "version": 3
   },
   "file_extension": ".py",
   "mimetype": "text/x-python",
   "name": "python",
   "nbconvert_exporter": "python",
   "pygments_lexer": "ipython3",
   "version": "3.6.10"
  }
 },
 "nbformat": 4,
 "nbformat_minor": 4
}
