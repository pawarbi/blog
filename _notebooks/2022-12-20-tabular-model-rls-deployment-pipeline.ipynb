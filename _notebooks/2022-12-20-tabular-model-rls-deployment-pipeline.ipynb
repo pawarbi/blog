{
 "cells": [
  {
   "attachments": {},
   "cell_type": "markdown",
   "metadata": {},
   "source": [
    "# Fixing the Power BI Deployment Pipiline Error For Migrated Tabular Model With RLS\n",
    "> How to fix an annoying, cryptic error when using deployment pipeline with tabular AS models migrated to Power BI dataset\n",
    "\n",
    "- toc: true \n",
    "- badges: true\n",
    "- comments: true\n",
    "- categories: [powerbi, tabulareditor, RLS]\n",
    "- hide: false"
   ]
  },
  {
   "attachments": {},
   "cell_type": "markdown",
   "metadata": {},
   "source": [
    "## The Issue\n",
    "\n",
    "I recently completed a project where we migrated Analysis Services models to Power BI Premium datasets. Since Power BI datasets are nothing but AS tabular models, it's easy to copy/paste (manually or using C# scripts) tabular model objects such as relationships, measures, calculated columns, hierarchies, RLS roles etc. Everything went smoothly except when we set up deployment pipelines for CI/CD, it failed with an error that gave no clue why it was failing. We created a support ticket with Microsoft but they were stumped as well. They suggested using Large Dataset Format to resolve the error but that did not work. But after several tests, I figured out the issue.  \n",
    "\n",
    "![](https://community.powerbi.com/t5/image/serverpage/image-id/351462i0F2CF0A2044FD0ED/image-size/large?v=v2&px=999)\n",
    "\n"
   ]
  },
  {
   "attachments": {},
   "cell_type": "markdown",
   "metadata": {},
   "source": [
    "## The Solution"
   ]
  },
  {
   "attachments": {},
   "cell_type": "markdown",
   "metadata": {},
   "source": [
    "The solution was simple: **Change the Model Permission from `Administrator` to `Read`**. When the object properties were copied, I copied everything along with the associated metadata. For a Power BI dataset, the security roles and access are defined in the service and not in the Power BI dataset. If you keep the Model Permission as `Administrator`, the Power BI dataset still works and refreshs fine but the Deployment Pipeline will fail. Don't ask me how long it took to figure this out!\n",
    "\n",
    "\n",
    "![](https://raw.githubusercontent.com/pawarbi/blog/master/images/AS_deployment_rls.png)"
   ]
  },
  {
   "cell_type": "markdown",
   "metadata": {},
   "source": []
  }
 ],
 "metadata": {
  "kernelspec": {
   "display_name": "Python 3",
   "language": "python",
   "name": "python3"
  },
  "language_info": {
   "codemirror_mode": {
    "name": "ipython",
    "version": 3
   },
   "file_extension": ".py",
   "mimetype": "text/x-python",
   "name": "python",
   "nbconvert_exporter": "python",
   "pygments_lexer": "ipython3",
   "version": "3.8.5"
  }
 },
 "nbformat": 4,
 "nbformat_minor": 4
}
