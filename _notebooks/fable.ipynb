{
 "cells": [
  {
   "cell_type": "code",
   "execution_count": 38,
   "metadata": {},
   "outputs": [
    {
     "name": "stdout",
     "output_type": "stream",
     "text": [
      "The rpy2.ipython extension is already loaded. To reload it, use:\n",
      "  %reload_ext rpy2.ipython\n"
     ]
    }
   ],
   "source": [
    "import pandas as pd\n",
    "import numpy as np\n",
    "import rpy2\n",
    "\n",
    "import warnings\n",
    "warnings.filterwarnings('ignore')\n",
    "\n",
    "from rpy2.robjects import pandas2ri\n",
    "import rpy2.rinterface as rinterface\n",
    "pandas2ri.activate()\n",
    "\n",
    "%load_ext rpy2.ipython"
   ]
  },
  {
   "cell_type": "code",
   "execution_count": 66,
   "metadata": {},
   "outputs": [],
   "source": [
    "data=pd.read_excel(r\"C:\\Users\\spawar\\Personal\\Analytics\\Time Series\\Datasets\\timeseries.xlsx\")\n",
    "\n",
    "train=data.iloc[:-6]"
   ]
  },
  {
   "cell_type": "code",
   "execution_count": 80,
   "metadata": {},
   "outputs": [],
   "source": [
    "%%R -i train -o rdf,fit,glance\n",
    "\n",
    "library(dplyr)\n",
    "library(tsibble)\n",
    "library(fable)\n",
    "\n",
    "rdf <- train %>% mutate(Date = yearmonth(Date)) %>% as_tsibble(index=Date)\n",
    "\n",
    "fit <- rdf %>% model(ETS(Sales),ETS(log(Sales)))\n",
    "\n",
    "glance <- fit%>% glance()\n"
   ]
  },
  {
   "cell_type": "code",
   "execution_count": 81,
   "metadata": {},
   "outputs": [
    {
     "name": "stdout",
     "output_type": "stream",
     "text": [
      "# A tibble: 2 x 9\n",
      "\r\n",
      "  .model           sigma2 log_ik   AIC  AICc   BIC     MSE    AMSE    MAE\n",
      "\r\n",
      "  <chr>             <dbl>  <dbl> <dbl> <dbl> <dbl>   <dbl>   <dbl>  <dbl>\n",
      "\r\n",
      "1 ETS(Sales)      0.00169 -199.  416.  438.  424.  2.25e+8 3.47e+8 0.0267\n",
      "\r\n",
      "2 ETS(log(Sales)) 0.00143   38.2 -58.4 -35.9 -50.4 7.96e-4 8.65e-4 0.0226\n"
     ]
    }
   ],
   "source": [
    "print(glance, end=\"\")"
   ]
  },
  {
   "cell_type": "code",
   "execution_count": 64,
   "metadata": {},
   "outputs": [
    {
     "data": {
      "text/html": [
       "\n",
       "    <span>R/rpy2 DataFrame (0 x 1)</span>\n",
       "    <table>\n",
       "      <thead>\n",
       "        <tr>\n",
       "        \n",
       "          <th>.model</th>\n",
       "        \n",
       "        </tr>\n",
       "      </thead>\n",
       "      <tbody>\n",
       "      \n",
       "      </tbody>\n",
       "    </table>\n",
       "    "
      ],
      "text/plain": [
       "R object with classes: ('tbl_df', 'tbl', 'data.frame') mapped to:\n",
       "<DataFrame - Python:0x0000023D39884908 / R:0x0000023D3ADE3DC0>\n",
       "[StrVector]\n",
       "  .model: <class 'rpy2.robjects.vectors.StrVector'>\n",
       "  R object with classes: ('character',) mapped to:\n",
       "<StrVector - Python:0x0000023D39884E08 / R:0x0000023D3A9A20C0>\n",
       "[]"
      ]
     },
     "execution_count": 64,
     "metadata": {},
     "output_type": "execute_result"
    }
   ],
   "source": [
    "glance"
   ]
  },
  {
   "cell_type": "code",
   "execution_count": null,
   "metadata": {},
   "outputs": [],
   "source": []
  }
 ],
 "metadata": {
  "kernelspec": {
   "display_name": "Python 3",
   "language": "python",
   "name": "python3"
  },
  "language_info": {
   "codemirror_mode": {
    "name": "ipython",
    "version": 3
   },
   "file_extension": ".py",
   "mimetype": "text/x-python",
   "name": "python",
   "nbconvert_exporter": "python",
   "pygments_lexer": "ipython3",
   "version": "3.6.10"
  }
 },
 "nbformat": 4,
 "nbformat_minor": 4
}
