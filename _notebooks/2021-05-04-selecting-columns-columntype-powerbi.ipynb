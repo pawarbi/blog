{
 "cells": [
  {
   "cell_type": "markdown",
   "metadata": {},
   "source": [
    "# Selecting Columns by Data Type in Power Query\n",
    "> This blog shows how to select columns by data type. This is helpful if you have hundreds of columns and want to see, for example, only numerical or date columns.\n",
    "\n",
    "- toc: true \n",
    "- badges: true\n",
    "- comments: true\n",
    "- categories: [powerquery, M, powerbi]\n",
    "- hide: false"
   ]
  },
  {
   "cell_type": "markdown",
   "metadata": {},
   "source": [
    "### Motivation\n"
   ]
  },
  {
   "cell_type": "markdown",
   "metadata": {},
   "source": [
    "It's not uncommon to have a table with hundreds of columns with different column types such as numerical, text, date, percentage etc. You can select columns by using the UI option \"Choose Columns\" and then selecting which columns to keep. But if you have have tens of columns of the same type, you will have to manually go through the list of columns and select the columns to keep. As far as I know, there is no direct way to only keep, for example, numerical columns. In Pandas, you can use `select_dtypes` method and pass which columns to choose based on the data types. No such option or function is available in Power Query. \n",
    "\n",
    "In this example, I will show how I achieved it. You can customize it or turn it into a function based on your use case.\n",
    "\n"
   ]
  },
  {
   "cell_type": "markdown",
   "metadata": {},
   "source": [
    "### Update 1: Using `Value.Type` & `Type.Is`"
   ]
  },
  {
   "cell_type": "markdown",
   "metadata": {},
   "source": [
    "I am using two M functions to achieve the desired output - `Value.Type` and `Type.Is`."
   ]
  },
  {
   "cell_type": "markdown",
   "metadata": {},
   "source": [
    "`Value.Type` returns the data type of the value. For example, `Value.Type(123)` returns `number` as type, while `Value.Type(\"sandeep\")` returns `text` as type. There is not much about it in the official documentation [here](https://docs.microsoft.com/en-us/powerquery-m/value-type) "
   ]
  },
  {
   "cell_type": "markdown",
   "metadata": {},
   "source": [
    "Similarly, `Type.Is` is a logical function that you can use to get a True/False if the type equals defined column type. \n",
    "For example, to check if number 123 is a text you would write `Type.Is(Value.Type(123), Text.Type)`. This will return `FALSE` while `Type.Is(Value.Type(123), Number.Type)` returns `TRUE`. Here we first obtained the type of the value using `Value.Type` and then compared it with `Number.Type`. Since both match, the result is `TRUE`. You can see a list of all data types in M [here](https://docs.microsoft.com/en-us/powerquery-m/m-spec-types).  "
   ]
  },
  {
   "cell_type": "markdown",
   "metadata": {},
   "source": [
    "We can combine these two functions with parameters to dynamically select columns based on selected data type. "
   ]
  },
  {
   "cell_type": "markdown",
   "metadata": {},
   "source": [
    "First create a parameter list as shown below. Include all data types you want to select. In this case, I am only selecting text, numeric and date type. I have also included 'All' to return the entire table. \n"
   ]
  },
  {
   "cell_type": "markdown",
   "metadata": {},
   "source": [
    "![param](https://raw.githubusercontent.com/pawarbi/blog/master/images/paramwindow.JPG)"
   ]
  },
  {
   "cell_type": "markdown",
   "metadata": {},
   "source": [
    "You can see the code below, but at a high level here are the steps:\n",
    "    \n",
    "   - Create a parameter list\n",
    "   - Ensure all columns have correct data types assigned. This is important because that's how M will idenify the columns to select\n",
    "   - Unpivot the table to create two columns - 'ColumnName' & 'Value'\n",
    "   - Use `Value.Type` and `Type.Is` and create a new column that shows the data type of the value\n",
    "   - Link parameter list with the filter to select data type\n",
    "   - Get filtered column list and pass it to `Table.SelectColumns`\n",
    "\n",
    "You can see it in action below:\n",
    "   "
   ]
  },
  {
   "cell_type": "markdown",
   "metadata": {},
   "source": [
    "![](https://raw.githubusercontent.com/pawarbi/blog/master/images/datatype.gif)"
   ]
  },
  {
   "cell_type": "markdown",
   "metadata": {},
   "source": []
  },
  {
   "cell_type": "markdown",
   "metadata": {},
   "source": [
    "To apply this to your table, you only need to make sure `SourceTable2` is your table with all columns with correctly assigned data types. You could convert it to a function to take table and data type as arguments. I will leave it to you. "
   ]
  },
  {
   "cell_type": "markdown",
   "metadata": {},
   "source": [
    "![code](https://raw.githubusercontent.com/pawarbi/blog/master/images/datatypecode.png)"
   ]
  },
  {
   "cell_type": "markdown",
   "metadata": {},
   "source": [
    "### Update 2: Using `Table.Schema`"
   ]
  },
  {
   "cell_type": "markdown",
   "metadata": {},
   "source": [
    "While thinking more about ways to make this function better, I actually found two more ways. One is to use `Table.ColumnsofType` ([documentation](https://docs.microsoft.com/en-us/powerquery-m/table-columnsoftype)) and other is to use `Table.Schema`. `Table.Schema` gives you metadata of the entire table along with the column types. I can use the same approach as above, but just use `Table.Schema` instead to get data type of each column. This is faster, better, cleaner!!! Here is the code: "
   ]
  },
  {
   "cell_type": "markdown",
   "metadata": {},
   "source": [
    "![code2](https://raw.githubusercontent.com/pawarbi/blog/master/images/datatypecode2.png)"
   ]
  }
 ],
 "metadata": {
  "kernelspec": {
   "display_name": "Python 3",
   "language": "python",
   "name": "python3"
  },
  "language_info": {
   "codemirror_mode": {
    "name": "ipython",
    "version": 3
   },
   "file_extension": ".py",
   "mimetype": "text/x-python",
   "name": "python",
   "nbconvert_exporter": "python",
   "pygments_lexer": "ipython3",
   "version": "3.6.10"
  }
 },
 "nbformat": 4,
 "nbformat_minor": 4
}
