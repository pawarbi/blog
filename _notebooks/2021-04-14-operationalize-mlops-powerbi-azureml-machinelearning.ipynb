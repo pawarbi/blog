{
 "cells": [
  {
   "cell_type": "markdown",
   "metadata": {},
   "source": [
    "# Operationalizing Machine Learning models with Azure ML and Power BI\n",
    "> I presented this session at Power Break on March 22, 2021. Topics coevered - limitations of using Python query in Power BI, importance of MLOps, deploying ML models in Azure ML and consuming them in Power BI\n",
    "\n",
    "- toc: true \n",
    "- badges: true\n",
    "- comments: true\n",
    "- categories: [azureml, mlops, powerbi]\n",
    "- hide: false"
   ]
  },
  {
   "cell_type": "markdown",
   "metadata": {},
   "source": [
    "### Machine Learning in Power BI\n"
   ]
  },
  {
   "cell_type": "markdown",
   "metadata": {},
   "source": [
    "Power BI and Azure ML have native integration with each other, which means not only you can consume the model deploy in Power BI but also use the resources/tools in Azure ML to manage the MLOps process. There is a misconception that you need Power BI Premium to use Azure ML. In this session I show that's not the case. Below are the topics covered:\n",
    "\n",
    "- Limitation of using Python or R in Power BI\n",
    "     - Formula firewall\n",
    "     - Privacy setting of the datasource must be Public\n",
    "     - 30 min query timeout\n",
    "     - Have to use personal gateway\n",
    "     - Cannot use enhanced metadata\n",
    "     - Dependency management\n",
    "     - Not scaleable\n",
    "     - No MLOps\n",
    "\n",
    "- Steps to access Azure ML models in Power BI\n",
    "     - Give Azure ML access to Power BI tenant in IAM\n",
    "     - Use scoring script with input/output schema"
   ]
  },
  {
   "cell_type": "markdown",
   "metadata": {},
   "source": [
    "![aml](https://docs.microsoft.com/en-us/azure/machine-learning/media/concept-azure-machine-learning-architecture/architecture.svg)"
   ]
  },
  {
   "cell_type": "markdown",
   "metadata": {},
   "source": [
    "#### Topics Covered:\n",
    "\n",
    "    \n",
    "- Invoking Azure ML models in Power Query in Desktop and using dataflow in service\n",
    "\n",
    "- Thoughts on batch-scoring\n",
    "\n",
    "- Other considerations:\n",
    "\n",
    "     - Azure ML models can only be called for real-time inference.\n",
    "     - Use ACI for small models and AKS for large models that requore GPU, scaleable compute, low latency, high availability\n",
    "     - Real-time inferencing is expensive! Use batch scoring if real-time is not needed\n",
    "     - Incremental refreshes in Power BI will work with models invoked from Azure ML but watch out for (query) performance\n",
    "     - With Azure Arc, you can use your own Kubernets service! Deploy the model in Azure ML but use your own K8 (AWS, GCP etc.)\n",
    "     - Premium Per User gives you access to Auto ML. If you have access to PPU, it may be worth first experimenting with AutoML before using Azure ML model to save cost. PPU Automl doesn't offer the same level of MLOps capabilities though. "
   ]
  },
  {
   "cell_type": "markdown",
   "metadata": {},
   "source": [
    ">youtube: https://youtu.be/oLdMFJIxWDo"
   ]
  },
  {
   "cell_type": "markdown",
   "metadata": {},
   "source": [
    "- **References:**\n",
    "\n",
    "    - https://docs.microsoft.com/en-us/power-bi/connect-data/service-aml-integrate\n",
    "\n",
    "    - https://pawarbi.github.io/blog/powerbi/r/python/2020/05/15/powerbi-python-r-tips.html\n",
    "\n",
    "    - https://azure.microsoft.com/en-us/blog/innovate-across-hybrid-and-multicloud-with-new-azure-arc-capabilities/\n",
    "\n",
    "    - https://docs.microsoft.com/en-us/power-bi/connect-data/desktop-python-scripts\n",
    "\n",
    "    - https://docs.microsoft.com/en-us/azure/machine-learning/tutorial-power-bi-custom-model\n",
    "\n"
   ]
  }
 ],
 "metadata": {
  "kernelspec": {
   "display_name": "Python 3",
   "language": "python",
   "name": "python3"
  },
  "language_info": {
   "codemirror_mode": {
    "name": "ipython",
    "version": 3
   },
   "file_extension": ".py",
   "mimetype": "text/x-python",
   "name": "python",
   "nbconvert_exporter": "python",
   "pygments_lexer": "ipython3",
   "version": "3.6.10"
  }
 },
 "nbformat": 4,
 "nbformat_minor": 4
}
