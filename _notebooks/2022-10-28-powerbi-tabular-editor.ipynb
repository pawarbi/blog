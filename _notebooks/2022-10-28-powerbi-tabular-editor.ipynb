{
 "cells": [
  {
   "cell_type": "markdown",
   "metadata": {},
   "source": [
    "# Session Recording : Tabular Editor For Beginners\n",
    "> I presented an introductory session on Tabular Editor at Delhi Power BI User Group\n",
    "\n",
    "- toc: true \n",
    "- badges: true\n",
    "- comments: true\n",
    "- categories: [powerbi, tabulareditor, presentation]\n",
    "- hide: false"
   ]
  },
  {
   "cell_type": "markdown",
   "metadata": {},
   "source": [
    "## Tabular Editor For Beginners\n",
    "\n",
    "Thank you to Dhruvin Shah and Delhi Power BI User Group for inviting me to present. This was my first time presenting at a PBUG from India so it was special ! Please watch and feel free to reach out to me on twitter @Pawarbi if you have any questions. Topics/features covered: \n",
    "\n",
    "- Why use Tabular Editor ?\n",
    "- Demo of three types of features:\n",
    "    - Productivity features\n",
    "    - Features that are not yet available in Power BI\n",
    "    - Automation features\n",
    "\n",
    "\n",
    ">youtube: https://youtu.be/35677ZfyR0Q"
   ]
  },
  {
   "cell_type": "markdown",
   "metadata": {},
   "source": [
    "![](https://raw.githubusercontent.com/pawarbi/blog/master/images/srenamecol1.png)"
   ]
  }
 ],
 "metadata": {
  "kernelspec": {
   "display_name": "Python 3",
   "language": "python",
   "name": "python3"
  },
  "language_info": {
   "codemirror_mode": {
    "name": "ipython",
    "version": 3
   },
   "file_extension": ".py",
   "mimetype": "text/x-python",
   "name": "python",
   "nbconvert_exporter": "python",
   "pygments_lexer": "ipython3",
   "version": "3.8.5"
  }
 },
 "nbformat": 4,
 "nbformat_minor": 4
}
