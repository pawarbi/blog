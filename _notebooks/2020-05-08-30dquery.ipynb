{
 "cells": [
  {
   "cell_type": "markdown",
   "metadata": {},
   "source": [
    "# 30DQUERY - 07 : Dynamically Selecting Columns Based On Text In Column Name\n",
    "> This is my solution to Power Query Folding Challenge -7 run by Alex Powers #30DQUERY. In this challenge, dynamically selecting columns based on the text in the column name\n",
    "- toc: true \n",
    "- badges: true\n",
    "- comments: true\n",
    "- categories: [powerquery, powerbi, 30dquery, M]\n",
    "- hide: false"
   ]
  },
  {
   "cell_type": "markdown",
   "metadata": {},
   "source": [
    "## Challenge 7\n",
    "\n",
    "[Alex Powers](https://itsnotaboutthecell.com/about/) is running a Power Query Challenge to write M code that can fold. \n",
    "Read more about Query Folding [here](https://docs.microsoft.com/en-us/power-query/power-query-folding)\n",
    "\n",
    "Below is Alex's video. You can find out more challenges on his [YouTube channel](https://www.youtube.com/channel/UCfz8kQWzTkXU0erBLjdc4dg) \n",
    "\n",
    "I wanted to write this one on the blog because it's a useful recipe that I can see myself using in the future."
   ]
  },
  {
   "cell_type": "markdown",
   "metadata": {},
   "source": [
    ">youtube: https://youtu.be/XgRtTA-GkxE"
   ]
  },
  {
   "cell_type": "markdown",
   "metadata": {},
   "source": [
    "## My Solution"
   ]
  },
  {
   "cell_type": "markdown",
   "metadata": {},
   "source": [
    "1. Get a list of column names with `Table.ColumnNames(..)`\n",
    "2. Convert the list to table and filter out the names with \"Dim\" in them by `Text.Contains(..)`\n",
    "3. Pass the filtered list to `Table.SelectColumns(..)`"
   ]
  },
  {
   "cell_type": "code",
   "execution_count": 3,
   "metadata": {},
   "outputs": [
    {
     "ename": "SyntaxError",
     "evalue": "invalid character in identifier (<ipython-input-3-841734a37351>, line 3)",
     "output_type": "error",
     "traceback": [
      "\u001b[1;36m  File \u001b[1;32m\"<ipython-input-3-841734a37351>\"\u001b[1;36m, line \u001b[1;32m3\u001b[0m\n\u001b[1;33m    // Database\u001b[0m\n\u001b[1;37m    ^\u001b[0m\n\u001b[1;31mSyntaxError\u001b[0m\u001b[1;31m:\u001b[0m invalid character in identifier\n"
     ]
    }
   ],
   "source": [
    "#hide_output\n",
    "let\n",
    "  // Database\n",
    "  Source2\n",
    "    = Sql.Databases(\n",
    "      \"localhost\"\n",
    "    ),\n",
    "  AdventureWorksDW2017\n",
    "    = Source2{[Name\n",
    "      = \"AdventureWorksDW2017\"]}[Data],\n",
    "  dbo_DimEmployee\n",
    "    = AdventureWorksDW2017{[\n",
    "      Schema = \"dbo\", \n",
    "      Item\n",
    "        = \"DimEmployee\"\n",
    "    ]}[Data],\n",
    "  // Get Column Names\n",
    "  cols\n",
    "    = Table.ColumnNames(\n",
    "      dbo_DimEmployee\n",
    "    ),\n",
    "  // Convert to Table and filter out names that contain \"Dim\n",
    "  to_table\n",
    "    = Table.FromList(\n",
    "      cols\n",
    "    ),\n",
    "  filter\n",
    "    = Table.SelectRows(\n",
    "      to_table, \n",
    "      each \n",
    "        not Text.Contains(\n",
    "        [Column1], \n",
    "        \"Dim\"\n",
    "      )\n",
    "    ),\n",
    "  final_cols\n",
    "    = filter[Column1],\n",
    "  // Select Columns\n",
    "  DimEmployee_table\n",
    "    = Table.SelectColumns(\n",
    "      dbo_DimEmployee, \n",
    "      final_cols\n",
    "    )\n",
    "in\n",
    "  DimEmployee_table"
   ]
  },
  {
   "cell_type": "markdown",
   "metadata": {},
   "source": [
    "#### Query is foldable\n",
    "\n",
    "![](https://raw.githubusercontent.com/pawarbi/blog/master/images/query7.jpg)"
   ]
  }
 ],
 "metadata": {
  "kernelspec": {
   "display_name": "Python 3",
   "language": "python",
   "name": "python3"
  },
  "language_info": {
   "codemirror_mode": {
    "name": "ipython",
    "version": 3
   },
   "file_extension": ".py",
   "mimetype": "text/x-python",
   "name": "python",
   "nbconvert_exporter": "python",
   "pygments_lexer": "ipython3",
   "version": "3.6.10"
  }
 },
 "nbformat": 4,
 "nbformat_minor": 2
}
