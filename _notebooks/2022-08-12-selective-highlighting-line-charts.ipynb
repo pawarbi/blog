{
 "cells": [
  {
   "cell_type": "markdown",
   "metadata": {},
   "source": [
    "# Selectively Highlighting Data Labels in Line Chart In Power BI\n",
    "> Using conditional color formatting to selectively highlight data labels in line charts\n",
    "\n",
    "- toc: true \n",
    "- badges: true\n",
    "- comments: true\n",
    "- categories: [powerbi, dataviz]\n",
    "- hide: false"
   ]
  },
  {
   "cell_type": "markdown",
   "metadata": {},
   "source": [
    "## Conditionally Highlighting Data Labels\n",
    "\n",
    "Conditional formatting is not new in Power BI however in August 2022 release a new option was added for [conditionally highlighting data labels](https://powerbi.microsoft.com/en-my/blog/power-bi-august-2022-feature-summary/#post-20399-_Toc110518262) in charts. It works the exact same way by clicking on the \"fx\" button in formatting options. This opens new way of selectively highlighting data labels by changing colors and color transperancy. I have [written about changing color transperancy](https://pawarbi.github.io/blog/powerbi/dataviz/eda/2021/09/03/color-transperancy-powerbi.html) using HSLA in my previous blog so I will directly show the the DAX and the before/after. \n",
    "\n",
    "In the chart below, I have added conditional formatting to only show values that are above 10%. You can use any complex logic that can be written in DAX."
   ]
  },
  {
   "cell_type": "markdown",
   "metadata": {},
   "source": [
    "![](https://raw.githubusercontent.com/pawarbi/blog/master/images/selective1.jpg)\n"
   ]
  },
  {
   "cell_type": "markdown",
   "metadata": {},
   "source": [
    "## DAX With HSLA\n",
    "\n",
    "To pass color transperancy to the color format, use the alpha value in the HSLA. 0 means transperant and 1 is opaque. Values between 0 and 1 will show various degree of transperancy. \n",
    "\n",
    "![](https://raw.githubusercontent.com/pawarbi/blog/master/images/selective2.jpg)\n",
    "\n",
    "\n",
    "\n",
    "Add the DAX measure to the \"fx\" as shown in the video below to get the desired effect. \n",
    "\n",
    ">youtube: https://youtu.be/Wiznd0dn29k?t=102"
   ]
  },
  {
   "cell_type": "markdown",
   "metadata": {},
   "source": [
    "## Other Ways\n",
    "\n",
    "There are several other ways to achive the same end result. You can read them [here](https://www.myonlinetraininghub.com/highlighting-data-in-power-bi-visuals) or watch below video:\n",
    "\n",
    ">youtube: https://www.youtube.com/watch?v=RdtysJXSDa8"
   ]
  }
 ],
 "metadata": {
  "kernelspec": {
   "display_name": "Python 3",
   "language": "python",
   "name": "python3"
  },
  "language_info": {
   "codemirror_mode": {
    "name": "ipython",
    "version": 3
   },
   "file_extension": ".py",
   "mimetype": "text/x-python",
   "name": "python",
   "nbconvert_exporter": "python",
   "pygments_lexer": "ipython3",
   "version": "3.8.5"
  }
 },
 "nbformat": 4,
 "nbformat_minor": 4
}
