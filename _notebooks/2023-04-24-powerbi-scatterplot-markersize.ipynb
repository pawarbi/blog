{
 "cells": [
  {
   "cell_type": "markdown",
   "metadata": {},
   "source": [
    "# Controlling Marker Size Sensitivity in Scatter Plot in Power BI\n",
    "> Using parameters to control and tune the size of the markers in Power BI scatter plot.\n",
    "\n",
    "- toc: true \n",
    "- badges: true\n",
    "- comments: true\n",
    "- categories: [powerbi, scatterplot, dataviz]\n",
    "- hide: false"
   ]
  },
  {
   "cell_type": "markdown",
   "metadata": {},
   "source": [
    "## Video: \n",
    "\n",
    "\n",
    "\n",
    ">youtube: https://youtu.be/OctAWvw_hdw\n",
    "\n"
   ]
  },
  {
   "cell_type": "code",
   "execution_count": null,
   "metadata": {},
   "outputs": [],
   "source": []
  }
 ],
 "metadata": {
  "kernelspec": {
   "display_name": "Python 3 (ipykernel)",
   "language": "python",
   "name": "python3"
  },
  "language_info": {
   "codemirror_mode": {
    "name": "ipython",
    "version": 3
   },
   "file_extension": ".py",
   "mimetype": "text/x-python",
   "name": "python",
   "nbconvert_exporter": "python",
   "pygments_lexer": "ipython3",
   "version": "3.9.12"
  },
  "vscode": {
   "interpreter": {
    "hash": "b8978f34abf069a71992295c7e5c28f04fc9fde7ed651ca3a1ebc7d2aa846365"
   }
  }
 },
 "nbformat": 4,
 "nbformat_minor": 4
}
