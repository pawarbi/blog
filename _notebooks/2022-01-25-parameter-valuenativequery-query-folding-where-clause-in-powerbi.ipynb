{
 "cells": [
  {
   "cell_type": "markdown",
   "metadata": {},
   "source": [
    "# Parametrizing Value.NativeQuery For Query Folding\n",
    "> Passing parameters and lists to Value.NativeQuery to make queries foldable and dynamic\n",
    "\n",
    "- toc: true \n",
    "- badges: true\n",
    "- comments: true\n",
    "- categories: [Power BI, powerquery, queryfolding, M, optimization]\n",
    "- hide: false"
   ]
  },
  {
   "cell_type": "markdown",
   "metadata": {},
   "source": [
    "## Query Folding"
   ]
  },
  {
   "cell_type": "markdown",
   "metadata": {},
   "source": [
    "In a recent [video by Guy In A Cube](https://www.youtube.com/watch?v=lopTsclrpHI), Adam showed a great trick to pass a list to the `where` clause in a SQL statement. I want to show another approach which is more parametric and can fold. It does come with one drawback that I will share. Watch Adam's video first:"
   ]
  },
  {
   "cell_type": "markdown",
   "metadata": {},
   "source": [
    ">youtube:https://youtu.be/lopTsclrpHI"
   ]
  },
  {
   "cell_type": "markdown",
   "metadata": {},
   "source": [
    "#### Query Folding Using Native.Query()"
   ]
  },
  {
   "cell_type": "markdown",
   "metadata": {},
   "source": [
    "It's known that instead of pasting query in the SQL server connection dialog box like below, you can use the same SQL statement in `Value.NativeQuery()` to make it foldable. This has the advantage of potentially speeding up the refresh times by offloading all the processing to the server instead of the gateway. I highly recommend reading [this blog](https://blog.crossjoin.co.uk/2021/02/21/query-folding-on-sql-queries-in-power-query-using-value-nativequery-and-enablefoldingtrue/) by Chris Webb, which is how I learned about this function. I have also added few more resources about Query Folding at the end of the blog, please check them out.   \n",
    "\n",
    "This will not fold :"
   ]
  },
  {
   "cell_type": "markdown",
   "metadata": {},
   "source": [
    "![1](https://raw.githubusercontent.com/pawarbi/blog/master/images/nq1.png)\n",
    "\n",
    "##### Using Native.Query()\n",
    "\n",
    "This will fold:\n",
    "\n",
    "![2](https://raw.githubusercontent.com/pawarbi/blog/master/images/nq2.png)"
   ]
  },
  {
   "cell_type": "markdown",
   "metadata": {},
   "source": [
    "What's not generally known is that you can pass parameters to the `Value.NativeQuery()` using the optional third argument. Again, I learned about it from Chris' blog [here](https://blog.crossjoin.co.uk/2016/12/11/passing-parameters-to-sql-queries-with-value-nativequery-in-power-query-and-power-bi/). I modified the SQL statement and passed a parameter `@Date` by using the third optional argument as shown below. You can use as many parameters as you like. The query is still foldable.  "
   ]
  },
  {
   "cell_type": "markdown",
   "metadata": {},
   "source": [
    ">note: Be sure to set [EnableFolding=true] to fold subsequent query steps. If you don't specify this, your initial query will fold but not the queries following the initial query"
   ]
  },
  {
   "cell_type": "markdown",
   "metadata": {},
   "source": [
    "![3](https://raw.githubusercontent.com/pawarbi/blog/master/images/nq3.png)"
   ]
  },
  {
   "cell_type": "markdown",
   "metadata": {},
   "source": [
    "##### But What About Lists ?"
   ]
  },
  {
   "cell_type": "markdown",
   "metadata": {},
   "source": [
    "Good question. If we try to pass a list in a `where` clause like Adam did, however, it will not work. See below. The parameters only work for single values."
   ]
  },
  {
   "cell_type": "markdown",
   "metadata": {},
   "source": [
    "![4](https://raw.githubusercontent.com/pawarbi/blog/master/images/nq4.png)"
   ]
  },
  {
   "cell_type": "markdown",
   "metadata": {},
   "source": [
    "![5](https://raw.githubusercontent.com/pawarbi/blog/master/images/nq5.png)"
   ]
  },
  {
   "cell_type": "markdown",
   "metadata": {},
   "source": [
    "## The Solution : Use JSON"
   ]
  },
  {
   "cell_type": "markdown",
   "metadata": {},
   "source": [
    "The solution to this is using `OPENJSON` format to pass the values. I have not tested it against all the foldable sources. It certainly works with SQL Server and Synapse Analytics. I found this solution last year on a forum somewhere and I can't find the source anymore unfortunately. If anyone knows it, please let me know so I can attribute to the original author.\n",
    "\n",
    "Create the parameter as a JSON object and read it in SQl statement using OPENJSON"
   ]
  },
  {
   "cell_type": "markdown",
   "metadata": {},
   "source": [
    "![6](https://raw.githubusercontent.com/pawarbi/blog/master/images/nq6.png)\n",
    "\n",
    "![7](https://raw.githubusercontent.com/pawarbi/blog/master/images/nq7.png)"
   ]
  },
  {
   "cell_type": "markdown",
   "metadata": {},
   "source": [
    "##### What If You Have An Existing List ?"
   ]
  },
  {
   "cell_type": "markdown",
   "metadata": {},
   "source": [
    "If you have an existing list that's derived from a column, you can use Text.Combine(), like Adam did, and pass it to the JSON parameter we created. If you want to pass numbers to the `where` clause like I did above, here are the steps to pass your list named `_mylist` as a parameter:\n",
    "\n",
    "\n",
    "- First convert the numbers to text, you can use `Number.ToText()`. Easier to just convert the column to text before creating the list\n",
    "- Concatenate the list: `\"[\" & Text.Combine(_mylist,\",\") & \"]\"`\n",
    "- Now you can specify this list as a parameter directly in the `Value.NativeQuery()` parameters option"
   ]
  },
  {
   "cell_type": "markdown",
   "metadata": {},
   "source": [
    "The only drawback here is the automatically generated SQL query does not show the values passed to `IN`. But it folds, that's what matters."
   ]
  },
  {
   "cell_type": "markdown",
   "metadata": {},
   "source": [
    "## Resources\n",
    "\n",
    "Other than [Chris Webb's blog](https://blog.crossjoin.co.uk/), here are couple more resources on Query Folding:"
   ]
  },
  {
   "cell_type": "markdown",
   "metadata": {},
   "source": [
    "##### 30DQUERY Challenge\n",
    "\n",
    "If you want to improve your M and learn the techniques to make queries foldable, I highly recommend participating in Alex Powers' #30DQUERY challenge.\n",
    "\n",
    ">youtube: https://youtu.be/9sV3hIn8VTY"
   ]
  },
  {
   "cell_type": "markdown",
   "metadata": {},
   "source": [
    "##### Ben Gribaudo's Blog\n",
    "\n",
    "[Ben's blog](https://bengribaudo.com/blog/2022/01/20/6500/power-query-m-primer-part-23-query-folding-i) is the most comprehensive resource on Query Folding. If you want to get deeper understanding of query folding and M in general, you have to read Ben's blog. \n",
    "\n",
    "Watch [**How Power Query Thinks**](https://bengribaudo.com/blog/2020/08/26/5417/how-power-query-thinks) by Ben"
   ]
  },
  {
   "cell_type": "code",
   "execution_count": null,
   "metadata": {},
   "outputs": [],
   "source": []
  }
 ],
 "metadata": {
  "kernelspec": {
   "display_name": "Python 3",
   "language": "python",
   "name": "python3"
  },
  "language_info": {
   "codemirror_mode": {
    "name": "ipython",
    "version": 3
   },
   "file_extension": ".py",
   "mimetype": "text/x-python",
   "name": "python",
   "nbconvert_exporter": "python",
   "pygments_lexer": "ipython3",
   "version": "3.8.5"
  }
 },
 "nbformat": 4,
 "nbformat_minor": 4
}
