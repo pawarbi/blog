{
 "cells": [
  {
   "cell_type": "markdown",
   "metadata": {},
   "source": [
    "# User Feedback Link / Button In Power BI\n",
    "> Embed link in Power BI reports for users to easily submit feedback via email\n",
    "\n",
    "- toc: true \n",
    "- badges: true\n",
    "- comments: true\n",
    "- categories: [usability]\n",
    "- hide: false"
   ]
  },
  {
   "cell_type": "markdown",
   "metadata": {},
   "source": [
    "## Dashboard Graveyard\n",
    "\n",
    "If you have created data analytics dashboards, you must have seen hundreds of dashboards that are created and left unused in workspaces leading to a graveyard of dead dashboards. While there might many reason for this, one of the primary reasons being lack of feedback loop. Often the business requirements change, users change, dashboards may have inaccuracies or they could be lacking usability/accessibility. To overcome this, the developer should set up a feedback loop either formally or informally so the business users can provide timely feedback. Below I show one quick method I use to help my business partners send me a feedback while they are accessing the dashboard. This has worked very well for me because it's less friction to provide feedback since it's right there on the report and it's freestyle (as opposed to forms). Users can submit feedback along with supplemental information.\n",
    "\n",
    "Note that I am using the term dashboard loosely here :) Be sure to check the additional links at the bottom of the page to learn about the other ways to help users provide feedback.\n"
   ]
  },
  {
   "cell_type": "markdown",
   "metadata": {},
   "source": [
    "![](https://raw.githubusercontent.com/pawarbi/blog/master/images/dashboard%20graveyard.png)\n"
   ]
  },
  {
   "cell_type": "markdown",
   "metadata": {},
   "source": [
    "## Mailto Link"
   ]
  },
  {
   "cell_type": "markdown",
   "metadata": {},
   "source": [
    "The idea is simple, create a customized *mailto* link that the users can click on. We can customize the link to include email addresses, subject line and the body of the email with instructions. Be specific and succinct in your instructions. \n",
    "\n",
    "There are several free online mailto link generators. I like to use [mailtolink](https://mailtolink.me/). Just fill out the email addresses, subject and the instructions and it will create the link for you. "
   ]
  },
  {
   "cell_type": "markdown",
   "metadata": {},
   "source": [
    ">note: For privacy reasons, I enter dummy email addresses and links in the generator and then replace them in word. **Don't include any confidential information there.** You can also use it to create a template once and just edit it for future projects."
   ]
  },
  {
   "cell_type": "markdown",
   "metadata": {},
   "source": [
    "Once you have created the link, you can just embed the link in a text box and done !!! When the user clicks on the report, it will launch their default email client with the addresses, subject, instructions filled out. Once you create the url, be sure to test it in your browser.\n",
    "\n",
    "\n",
    "\n",
    "![](https://raw.githubusercontent.com/pawarbi/blog/master/images/mailtourllink.png)"
   ]
  },
  {
   "cell_type": "markdown",
   "metadata": {},
   "source": [
    "\n",
    "\n",
    "In Power BI, create a text box \"Submit Feedback\" and hyeperlink it to the generated mailto link. \n",
    "\n",
    ">note: For some reason, the link doesn't work with the buttons. I get around this by overlaying a transparent text box on a button/image so the text is hidden but you get the same effect.  \n",
    "\n",
    "Try below, click on the **Submit Feedback** button in the top right corner: \n"
   ]
  },
  {
   "cell_type": "code",
   "execution_count": 1,
   "metadata": {},
   "outputs": [],
   "source": [
    "from IPython.display import IFrame"
   ]
  },
  {
   "cell_type": "code",
   "execution_count": 3,
   "metadata": {},
   "outputs": [
    {
     "data": {
      "text/html": [
       "\n",
       "        <iframe\n",
       "            width=\"800\"\n",
       "            height=\"600\"\n",
       "            src=\"https://app.powerbi.com/view?r=eyJrIjoiNjAzOGYzNTEtM2JlNS00ZmE2LThiZTQtYWRjNzI1MzJmYzc5IiwidCI6IjkxMzc2MWU4LTc4NjEtNDc0ZS05ZjM4LWQyZDc1MjUwMDExZiJ9&pageName=ReportSection2a85fb54a002b410a870\"\n",
       "            frameborder=\"0\"\n",
       "            allowfullscreen\n",
       "        ></iframe>\n",
       "        "
      ],
      "text/plain": [
       "<IPython.lib.display.IFrame at 0x153a2b1c220>"
      ]
     },
     "execution_count": 3,
     "metadata": {},
     "output_type": "execute_result"
    }
   ],
   "source": [
    "link = 'https://app.powerbi.com/view?r=eyJrIjoiNjAzOGYzNTEtM2JlNS00ZmE2LThiZTQtYWRjNzI1MzJmYzc5IiwidCI6IjkxMzc2MWU4LTc4NjEtNDc0ZS05ZjM4LWQyZDc1MjUwMDExZiJ9&pageName=ReportSection2a85fb54a002b410a870'\n",
    "\n",
    "IFrame(link, width=800, height=600)"
   ]
  },
  {
   "cell_type": "markdown",
   "metadata": {},
   "source": [
    "Be sure to let me know your feedback ! :)"
   ]
  },
  {
   "cell_type": "markdown",
   "metadata": {},
   "source": [
    "## Resources\n",
    "\n",
    "There are other creative ways to achieve the same thing. \n",
    "\n",
    "- David Eldersveld shows how to [embed Microsoft Forms in Apps](https://dataveld.com/2019/06/05/enrich-your-power-bi-app-navigation-experience/)\n",
    "\n",
    "- Similar to David's approach, Guy In A Cube walks through the steps of using Forms for gathering feedback :\n",
    "\n",
    ">youtube: https://youtu.be/0WfITrMl0hc\n",
    "\n",
    "- [Using Google Forms to submit feedback](https://youtu.be/B2VYRZlLUAs), very creative.\n",
    "\n",
    "- [Using Power Apps](https://zebrabi.com/writeback-comments-power-bi/)"
   ]
  }
 ],
 "metadata": {
  "kernelspec": {
   "display_name": "Python 3",
   "language": "python",
   "name": "python3"
  },
  "language_info": {
   "codemirror_mode": {
    "name": "ipython",
    "version": 3
   },
   "file_extension": ".py",
   "mimetype": "text/x-python",
   "name": "python",
   "nbconvert_exporter": "python",
   "pygments_lexer": "ipython3",
   "version": "3.8.5"
  }
 },
 "nbformat": 4,
 "nbformat_minor": 4
}
