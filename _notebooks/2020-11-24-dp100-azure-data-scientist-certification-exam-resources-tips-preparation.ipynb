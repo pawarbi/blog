{
 "cells": [
  {
   "cell_type": "markdown",
   "metadata": {},
   "source": [
    "# Azure Data Scientist Certification (DP-100) Resources & Tips\n",
    "> I passed the DP-100 certification exam yesterday. Here are some of the resources I used and the tips for you to prepare well.   \n",
    "\n",
    "- toc: true \n",
    "- badges: true\n",
    "- comments: true\n",
    "- categories: [certification]\n",
    "- hide: false"
   ]
  },
  {
   "cell_type": "markdown",
   "metadata": {},
   "source": [
    "## DP-100\n",
    "\n",
    "![DP-100](https://miro.medium.com/max/600/1*0II-GwnU9Ad4S8IrDGF3fQ.png)\n"
   ]
  },
  {
   "cell_type": "markdown",
   "metadata": {},
   "source": [
    "The DP-100 exam (DP-100: Designing and Implementing a Data Science Solution on Azure) measures your ability to set up Azure ML workspace, create ML experiments and deploy them in service. I took the exam on Nov 23, 2020. Note that the exam contents will change on December 8, 2020 so if you are going to take the exam after Dec 8, 2020, please visit the exam [website](https://docs.microsoft.com/en-us/learn/certifications/exams/dp-100#certification-exams) for updated content.  \n",
    "\n",
    "This exam covers 4 main areas of Azure ML:\n",
    "\n",
    " - Set up an Azure ML workspace (30-35%)\n",
    " - Run, track, manage, train ML models (20-25%)\n",
    " - Optimize models, AutoML (20-25%)\n",
    " - Deploy, monitor, consume models (20-25%)\n",
    " \n",
    "Before you do anything, make sure to check the official exam page first on [MS Certifications page](https://docs.microsoft.com/en-us/learn/certifications/browse/) for the latest exam as MS often retires exams and replaces them as technology evolves.   \n",
    "\n",
    "The exam fee is $165 but I got it for free with MS Ignite Voucher. Keep an eye on MS online events for free vouchers. Exam length is 180 minutes and you are asked 58 questions covering the above topics. "
   ]
  },
  {
   "cell_type": "markdown",
   "metadata": {},
   "source": [
    "## Resources"
   ]
  },
  {
   "cell_type": "markdown",
   "metadata": {},
   "source": [
    "Here are the resources I used to learn Azureml ML Service and prepare for the exam. "
   ]
  },
  {
   "cell_type": "markdown",
   "metadata": {},
   "source": [
    "1. First [create a free Azure account](https://azure.microsoft.com/en-us/free/) with $200 in credit. You will need it for practice\n",
    "\n",
    "\n",
    "2. If you are new to Python or Machine Learning, [start with this MS Learn track](https://docs.microsoft.com/en-us/learn/paths/create-machine-learn-models/). If you are already familiar with Python & ML, you can skip it. \n",
    "\n",
    "\n",
    "2. Start simple to get hang of the no-code ML offering from Azure and create scaleable ML models using the designer in Azure ML Studio. [Link](https://docs.microsoft.com/en-us/learn/paths/create-no-code-predictive-models-azure-machine-learning/). Note that the exams will have questions on the Designer *not* the deprecated [Azure ML Studio Classic](https://studio.azureml.net/). The two are different.\n",
    "\n",
    "\n",
    "3. Take the [Build AI Solutions with Azure ML](https://docs.microsoft.com/en-us/learn/paths/build-ai-solutions-with-azure-ml-service/) course on MS learn. This is the **most** important resource you will want to study. This covers all the DP-100 topics really well.  \n",
    "\n",
    "\n",
    "4. As you go through each module in MS Learn, open the corresponding page on [MS Documentation](https://docs.microsoft.com/en-us/azure/machine-learning/how-to-manage-workspace?view=azure-ml-py&tabs=python) and read it. Many of the topics will be same but the documentation page adds more details & examples that I found very helpful.  \n",
    "\n",
    "\n",
    "5. **Labs**: These [labs](https://github.com/MicrosoftLearning/DP100) will give you hands-on experience with Azure ML SDK. These are very important and highly recommend you complete **all of them**. \n",
    "\n",
    "\n",
    "6. [Lab Videos](https://github.com/MicrosoftLearning/Lab-Demo-Recordings/blob/master/DP-100.md): These videos are supplementary to the labs above. Not very helpful as there is no audio.\n",
    "\n",
    "\n",
    "7. If you like to follow along with someone instead of doing it on your own, I recommend taking the DP-100 course by Ginge Grant. The course is completely free and covers everything you need for DP100. Below are the link\n",
    "    - [Module 1, Day 1](https://note.microsoft.com/US-NOGEP-WBNR-FY20-04Apr-20-DP-100SetupanAzureMachineLearningworkspace-SRDEM14523-01_Registration.html)\n",
    "    - [Module 2, Day 2](https://note.microsoft.com/US-NOGEP-WBNR-FY20-04Apr-21-DP-100Runexperimentsandtrainmodels-SRDEM14523-02_Registration.html)\n",
    "    - [Module 3, Day 3](https://note.microsoft.com/US-NOGEP-WBNR-FY20-04Apr-22-DP-100Optimizeandmanagemodels-SRDEM14523-03_Registration.html)\n",
    "    - [Module 4, Day 4](https://note.microsoft.com/US-NOGEP-WBNR-FY20-04Apr-23-DP-100Deployandconsumemodels-SRDEM14523-04_Registration.html)\n",
    "    \n",
    "    \n",
    "8. **Pluralsight**: Pluralsight, in partnership with Microsoft, offers [free instroctor led DP-100 courses](https://www.pluralsight.com/paths/microsoft-azure-data-scientist-dp-100). I watched most of them, I found Ginger's course above more thorough. \n",
    "\n",
    "\n",
    "9. [Cloudacademy](https://cloudacademy.com/learning-paths/dp-100-exam-prep-designing-and-implementing-a-data-science-solution-on-azure-1902/) also offers DP-100 course (not free). I created a free 7 day trial account to check out the content and it's very bad. It's basically just commentary on the examples from the labs above. Don't waste your time. If you already have a cloud academy membership, you can explore but don't pay for it.  \n",
    "\n",
    "\n",
    "10. **Udacity**: Udacity has a [Azure ML Engineer program](https://www.udacity.com/course/machine-learning-engineer-for-microsoft-azure-nanodegree--nd00333) in collaboration with Microsoft. I won the scholarship for that course. It covers all the DP-100 topics and plus some more. If you are enrolled in this course, you should be able to pass DP-100 comfortably. I wouldn't take the course just to prepare for the exam. The content in the course is good but very similar to Ginger's videos above. \n",
    "\n",
    "\n",
    "11. If you want to learn more advanced Azure ML sdk, [this is a great repo](https://github.com/Azure/MachineLearningNotebooks/tree/4170a394edd36413edebdbab347afb0d833c94ee) with all the tutorials and examples. This is above and beyond what's required for DP-100 and I recommend completing above labs first. "
   ]
  },
  {
   "cell_type": "markdown",
   "metadata": {},
   "source": [
    "## Tips"
   ]
  },
  {
   "cell_type": "markdown",
   "metadata": {},
   "source": [
    "1. Don't skip the labs. You will be asked questions on Azure ML SDK and you need to know it very well\n",
    "2. You will be asked questions on regression, classification modeling and metrics so you need to know machine learning.\n",
    "3. Almost all the courses/resources above (except some courses on Pluralsight) assume that you know how to create regression, classification models. If you don't have any experience with machine learning, use the [MS Learn](https://docs.microsoft.com/en-us/learn/paths/create-no-code-predictive-models-azure-machine-learning/) track from above. It's minimum and you should start with that first.\n",
    "4. Learn the mlflow api and how to use it with Azure ML sdk: [link](https://docs.microsoft.com/en-us/azure/machine-learning/how-to-use-mlflow)\n",
    "5. If you have not taken any Azure certifications before, I recommend taking an easier exam first (e.g. AZ900) to get a feel for it first.\n",
    "6. Start the exam check-in process at least 30 minutes prior to your schedule. It takes time and sometimees you may face technical difficulties so give yourself ample time before the exam. \n",
    "7. You can always reschedule the exam (I did) if you think you need more time to prepare or have other commitments.\n",
    "8. If you create a free Azure account, create a new resource with Azure ML workspace so it will be easier for you to delete it later. Azure ML compute is expensive so be sure to keep an eye on the usage. Don't forget to stop the compute target when not in use, otherwise you will be shocked when you get the invoice form Azure. Don't ask me how I know this ;). If you do incur charges, reach out to Azure support team. They will often waive the charges. \n",
    "9. You will be able to complete most labs (except Pipelines & deployment) using your local compute. \n",
    "10. As mentioned above, MS often gives away exam vouchers or discounts so keep an eye on their events page.\n",
    "10. Connect with me on twitter (@PawarBI) if you have questions\n",
    "\n",
    "\n",
    "**Good luck !**\n",
    " "
   ]
  },
  {
   "cell_type": "code",
   "execution_count": null,
   "metadata": {},
   "outputs": [],
   "source": []
  }
 ],
 "metadata": {
  "kernelspec": {
   "display_name": "Python 3",
   "language": "python",
   "name": "python3"
  },
  "language_info": {
   "codemirror_mode": {
    "name": "ipython",
    "version": 3
   },
   "file_extension": ".py",
   "mimetype": "text/x-python",
   "name": "python",
   "nbconvert_exporter": "python",
   "pygments_lexer": "ipython3",
   "version": "3.6.10"
  }
 },
 "nbformat": 4,
 "nbformat_minor": 2
}
