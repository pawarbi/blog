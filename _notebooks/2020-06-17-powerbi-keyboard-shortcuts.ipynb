{
 "cells": [
  {
   "cell_type": "markdown",
   "metadata": {},
   "source": [
    "# Handy Keyboard Shortcuts in Power BI\n",
    "> Few handy keyboard shortcuts I use frequenctly in Power BI \n",
    "\n",
    "- toc: true \n",
    "- badges: true\n",
    "- comments: true\n",
    "- categories: [powerbi]\n",
    "- hide: false"
   ]
  },
  {
   "cell_type": "markdown",
   "metadata": {},
   "source": [
    "## Shortcuts\n",
    "\n",
    "I am sure there are many more, but these are the ones I use frequently. \n",
    "\n",
    "\n",
    " 1. **Alt + Drag** to toggle snap-on off and move objects freely\n",
    "\n",
    "\n",
    "\n",
    " 2. **Up/Down arrows** to move objects in small steps & SHIFT+ Arrow to move them large steps\n",
    "\n",
    "\n",
    "\n",
    " 3. **Ctrl + Shift + Arrow** to make shapes bigger/smaller\n",
    "\n",
    "\n",
    "\n",
    " 4. **Shift + Resize** to keep the aspect ratio\n",
    "\n",
    "\n",
    "\n",
    " 5. **Ctrl + G** to group and **Ctrl + Shift + G** to ungroup. Align, Distribute and Group and then resize to scale all the shapes/cards at the same time\n",
    "\n",
    "\n",
    "\n",
    " 6. **Ctrl + Arrow** to quickly cycle through visuals/shapes on the canvas\n",
    "\n",
    "\n"
   ]
  },
  {
   "cell_type": "markdown",
   "metadata": {},
   "source": [
    "> youtube: https://youtu.be/f1SclBko0qw"
   ]
  },
  {
   "cell_type": "code",
   "execution_count": null,
   "metadata": {},
   "outputs": [],
   "source": []
  }
 ],
 "metadata": {
  "kernelspec": {
   "display_name": "Python 3",
   "language": "python",
   "name": "python3"
  },
  "language_info": {
   "codemirror_mode": {
    "name": "ipython",
    "version": 3
   },
   "file_extension": ".py",
   "mimetype": "text/x-python",
   "name": "python",
   "nbconvert_exporter": "python",
   "pygments_lexer": "ipython3",
   "version": "3.6.10"
  }
 },
 "nbformat": 4,
 "nbformat_minor": 2
}
