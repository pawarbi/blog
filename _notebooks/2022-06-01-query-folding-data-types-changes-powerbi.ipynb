{
 "cells": [
  {
   "cell_type": "markdown",
   "metadata": {},
   "source": [
    "# Query Folding Safe Data Type Changes\n",
    "> Simple solution to make data type changes query folding safe\n",
    "\n",
    "- toc: true \n",
    "- badges: true\n",
    "- comments: true\n",
    "- categories: [powerquery,M, queryfolding]\n",
    "- hide: false"
   ]
  },
  {
   "cell_type": "markdown",
   "metadata": {},
   "source": [
    "## Query Folding\n",
    "\n",
    "You can read about query folding in detail in [official documentation](https://docs.microsoft.com/en-us/power-query/power-query-folding) and the resources I have provided below. But at a high level, query folding allows us to create query steps that send a single native query back to the data source instead of the mashup engine doing the transformations. As much as possible, we want to design queries so they fold. Not all PowerQuery transformations are foldable. One of those transformations is changing data type.\n"
   ]
  },
  {
   "cell_type": "code",
   "execution_count": 8,
   "metadata": {},
   "outputs": [
    {
     "data": {
      "text/html": [
       "\n",
       "<iframe title=\"vimeo-player\" src=\"https://player.vimeo.com/video/714177719?h=466f2d1c1b\" width=\"640\" height=\"360\" frameborder=\"0\" allowfullscreen></iframe>\n"
      ],
      "text/plain": [
       "<IPython.core.display.HTML object>"
      ]
     },
     "metadata": {},
     "output_type": "display_data"
    }
   ],
   "source": [
    "\n",
    "%%html\n",
    "\n",
    "<iframe title=\"vimeo-player\" src=\"https://player.vimeo.com/video/714177719?h=466f2d1c1b\" width=\"640\" height=\"360\" frameborder=\"0\" allowfullscreen></iframe>"
   ]
  },
  {
   "cell_type": "markdown",
   "metadata": {},
   "source": [
    "## Checking Query Folding\n",
    "\n",
    "\n",
    "It is still debatable whether changing data types actually breaks query folding. My own tests using SQL Server, Postgres (BigQuery, Bit.io), OData, Synapse Analytics Serverless/Dedicated servers show that most data type changes don't actually break folding when you **check the server logs**. But my friend [Nikola recently pointed out that](https://twitter.com/DataMozart/status/1529875011313467393) it may not always be the case. There are three ways to check if a query is folding : \n",
    "- Right click the step in PQ and check if View Native Query option is greyed out. If it's greyed out, folding has stopped. Below query is foldable as the option is not greyed out. However, If this option is greyed out it doesn't necessarily mean that query folding isn't happening. But if it is not greyed out then we can be sure that query folding is taking place for sure. This method is similar to using *Value.Metadata()* to check query folding ([link](https://en.brunner.bi/post/new-ways-to-check-if-queries-fold-in-power-query)). \n",
    "\n",
    "![](https://docs.microsoft.com/en-us/power-query/media/power-query-folding/query-folding-example.png)\n",
    "\n",
    "\n",
    "\n",
    "\n",
    "- Use Start Diagnostics in Power Query and check the detailed diagnostics report for the query sent to the data source. You can watch [my video](https://usergroup.tv/videos/query-folding-in-power-bi/) above to learn about this technique. This process is definitely a bit tedious. You can also use SQL Profiler in DAX Studio or SSMS to trace queries and identify the queries generated. \n",
    "\n",
    "- Check the server logs. This is the most straightforward and sure fire way. But not everyone has access to these logs.  "
   ]
  },
  {
   "cell_type": "markdown",
   "metadata": {},
   "source": [
    "## Changing Data Type"
   ]
  },
  {
   "cell_type": "markdown",
   "metadata": {},
   "source": [
    "So how do we make data type changes, query folding safe? Easy -  **Use Table.TransformColumns() instead of Table.TransformColumnTypes()** .I have verified this with all the foldable data source types and it has always worked. If it doesn't work in your scenario, please let me know. \n",
    "In the screenshot below, I am connected to serverless SQL pool in Synapse Analytics. I will be changing data types for three columns UnitPrice (decimal), UnitPriceDiscountPct (decimal), Is_Promotion (text).\n",
    "\n",
    "![](https://raw.githubusercontent.com/pawarbi/blog/master/images/QFDC%201.PNG)"
   ]
  },
  {
   "attachments": {},
   "cell_type": "markdown",
   "metadata": {},
   "source": [
    "### Decimal to Percentage\n",
    "\n",
    "Custom Transformation : "
   ]
  },
  {
   "cell_type": "code",
   "execution_count": 11,
   "metadata": {},
   "outputs": [
    {
     "data": {
      "text/plain": [
       "'Table.TransformColumns(Data, {{\"UnitPriceDiscountPct\",Number.From, Percentage.Type}})'"
      ]
     },
     "execution_count": 11,
     "metadata": {},
     "output_type": "execute_result"
    }
   ],
   "source": [
    "#hide_input\n",
    "'''Table.TransformColumns(Data, {{\"UnitPriceDiscountPct\",Number.From, Percentage.Type}})'''"
   ]
  },
  {
   "cell_type": "markdown",
   "metadata": {},
   "source": [
    "\n",
    "![](https://raw.githubusercontent.com/pawarbi/blog/master/images/QFDCS2.PNG)"
   ]
  },
  {
   "attachments": {},
   "cell_type": "markdown",
   "metadata": {},
   "source": [
    "### Decimal to Currency\n",
    "\n",
    "Custom Transformation :"
   ]
  },
  {
   "cell_type": "code",
   "execution_count": 13,
   "metadata": {},
   "outputs": [
    {
     "data": {
      "text/plain": [
       "'Table.TransformColumns(Data, {{\"UnitPrice\",Number.From, Currency.Type}})'"
      ]
     },
     "execution_count": 13,
     "metadata": {},
     "output_type": "execute_result"
    }
   ],
   "source": [
    "#hide_input\n",
    "'''Table.TransformColumns(Data, {{\"UnitPrice\",Number.From, Currency.Type}})'''"
   ]
  },
  {
   "cell_type": "markdown",
   "metadata": {},
   "source": [
    "\n",
    "![](https://raw.githubusercontent.com/pawarbi/blog/master/images/QFDCS3.PNG)"
   ]
  },
  {
   "attachments": {},
   "cell_type": "markdown",
   "metadata": {},
   "source": [
    "### Text to Logical\n",
    "\n",
    "Custom Transformation :"
   ]
  },
  {
   "cell_type": "code",
   "execution_count": 16,
   "metadata": {},
   "outputs": [
    {
     "data": {
      "text/plain": [
       "'Table.TransformColumns(Data, {{\"Is_Promotion\",Text.From, type logical}})'"
      ]
     },
     "execution_count": 16,
     "metadata": {},
     "output_type": "execute_result"
    }
   ],
   "source": [
    "#hide_input\n",
    "'''Table.TransformColumns(Data, {{\"Is_Promotion\",Text.From, type logical}})'''"
   ]
  },
  {
   "cell_type": "markdown",
   "metadata": {},
   "source": [
    "![](https://raw.githubusercontent.com/pawarbi/blog/master/images/QFDC4.PNG)"
   ]
  },
  {
   "cell_type": "markdown",
   "metadata": {},
   "source": [
    "You can use the exact same pattern to make any data type change query folding safe, including for text and date columns.\n"
   ]
  },
  {
   "cell_type": "code",
   "execution_count": 19,
   "metadata": {},
   "outputs": [
    {
     "data": {
      "text/plain": [
       "'Table.TransformColumns(Data, {{\"ColumnName\",<..>.From, type <enter type>}})'"
      ]
     },
     "execution_count": 19,
     "metadata": {},
     "output_type": "execute_result"
    }
   ],
   "source": [
    "#hide_input\n",
    "'''Table.TransformColumns(Data, {{\"ColumnName\",<..>.From, type <enter type>}})'''"
   ]
  },
  {
   "cell_type": "markdown",
   "metadata": {},
   "source": [
    "## Summary\n",
    "\n",
    "Data type changes do not always stop query folding. You have to check the server logs to ensure if it's truly folding or not. But you can use above described method to always force query folding. This method works for SQL server, OData and Postgres SQL.  "
   ]
  },
  {
   "cell_type": "markdown",
   "metadata": {},
   "source": [
    "## Resources\n",
    "\n",
    "- Chris Webb's Blog: https://blog.crossjoin.co.uk/2021/02/21/query-folding-on-sql-queries-in-power-query-using-value-nativequery-and-enablefoldingtrue/\n",
    "\n",
    "- My Power Query, Query Folding, Power BI Guru, Alex Powers's [30 Day Query Folding Challenge](https://www.youtube.com/watch?v=9sV3hIn8VTY)\n",
    "\n",
    "- [My previous blog](https://pawarbi.github.io/blog/power%20bi/powerquery/queryfolding/m/optimization/2022/01/25/parameter-valuenativequery-query-folding-where-clause-in-powerbi.html)\n",
    "\n",
    "- Nikola Ilic's blogs: Nikola has written and presented extensively on this topic\n",
    "    - https://data-mozart.com/query-folding-tricks-lies-ultimate-performance-test/\n",
    "\n",
    "    - https://data-mozart.com/what-is-a-query-folding-in-power-bi-and-why-should-i-care/"
   ]
  },
  {
   "cell_type": "code",
   "execution_count": null,
   "metadata": {},
   "outputs": [],
   "source": []
  }
 ],
 "metadata": {
  "kernelspec": {
   "display_name": "Python 3",
   "language": "python",
   "name": "python3"
  },
  "language_info": {
   "codemirror_mode": {
    "name": "ipython",
    "version": 3
   },
   "file_extension": ".py",
   "mimetype": "text/x-python",
   "name": "python",
   "nbconvert_exporter": "python",
   "pygments_lexer": "ipython3",
   "version": "3.8.5"
  }
 },
 "nbformat": 4,
 "nbformat_minor": 4
}
