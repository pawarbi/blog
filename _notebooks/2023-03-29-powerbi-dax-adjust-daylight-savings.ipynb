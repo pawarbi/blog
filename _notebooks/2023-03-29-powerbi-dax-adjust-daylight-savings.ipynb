{
 "cells": [
  {
   "attachments": {},
   "cell_type": "markdown",
   "metadata": {},
   "source": [
    "# DAX Measure to Dynamically Offset Datetime Based on Daylight Savings Time\n",
    "> A quick measure to calculate time based on US Daylight Savings Time\n",
    "\n",
    "- toc: true \n",
    "- badges: true\n",
    "- comments: true\n",
    "- categories: [powerbi, dax, daylightsavings]\n",
    "- hide: false"
   ]
  },
  {
   "attachments": {},
   "cell_type": "markdown",
   "metadata": {},
   "source": [
    "## Adjusting Time Based on DST\n",
    "\n",
    "It's often a requirement in Power BI reports to use dates or display refresh times. The best practice is to calculate the refresh time [using M](https://www.fourmoo.com/2017/10/10/using-power-bi-to-ensure-daylight-savings-dates-and-times-change-dynamically/) but if you are using Direct Query or streaming dataset, it's not an option. You have to create a DAX measure. I recently had such requirement to show refresh time based on Pacific Time zone. Below measure calculates the current time in UTC timezone and returns time in Pacific time zone adjusted for daylight savings time. I used official rules from [here](https://www.nist.gov/pml/time-and-frequency-division/popular-links/daylight-saving-time-dst), which state:\n",
    "\n",
    "- DST begins on the second Sunday of March\n",
    "- DST ends on the first Sunday of November\n",
    "\n",
    "\n",
    "```\n",
    "Page Refreshed Datetime =\n",
    "// https://www.nist.gov/pml/time-and-frequency-division/popular-links/daylight-saving-time-dst\n",
    "// Calculates time in Pacific timezone\n",
    "\n",
    "VAR _utcnow =\n",
    "    UTCNOW ()\n",
    "VAR _year =\n",
    "    YEAR ( _utcnow )\n",
    "VAR _utcdate =\n",
    "    DATE ( YEAR ( _utcnow ), MONTH ( _utcnow ), DAY ( _utcnow ) ) // DST begins on the second Sunday of March    \n",
    "VAR _dstbegins =\n",
    "    DATE ( _year, 3, 1 )\n",
    "        + MOD ( 8 - WEEKDAY ( DATE ( _year, 3, 1 ) ), 7 ) + 7 // DST ends on the first Sunday of November            \n",
    "VAR _dstends =\n",
    "    DATE ( _year, 11, 1 )\n",
    "        + MOD ( 8 - WEEKDAY ( DATE ( _year, 11, 1 ) ), 7 )\n",
    "VAR _IsDST = _utcdate >= _dstbegins\n",
    "    && _utcdate < _dstends\n",
    "RETURN\n",
    "    SWITCH (\n",
    "        TRUE,\n",
    "        _IsDST, _utcnow - TIME ( 7, 00, 00 ), //For Pacific Timezone\n",
    "        _utcnow - TIME ( 8, 00, 00 )\n",
    "    )\n",
    "\n",
    "\n",
    "\n",
    "\n",
    "```"
   ]
  }
 ],
 "metadata": {
  "kernelspec": {
   "display_name": "base",
   "language": "python",
   "name": "python3"
  },
  "language_info": {
   "codemirror_mode": {
    "name": "ipython",
    "version": 3
   },
   "file_extension": ".py",
   "mimetype": "text/x-python",
   "name": "python",
   "nbconvert_exporter": "python",
   "pygments_lexer": "ipython3",
   "version": "3.9.12"
  },
  "vscode": {
   "interpreter": {
    "hash": "b8978f34abf069a71992295c7e5c28f04fc9fde7ed651ca3a1ebc7d2aa846365"
   }
  }
 },
 "nbformat": 4,
 "nbformat_minor": 4
}
